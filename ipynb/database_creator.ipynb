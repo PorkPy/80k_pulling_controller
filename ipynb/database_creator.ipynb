{
 "cells": [
  {
   "cell_type": "markdown",
   "metadata": {},
   "source": [
    "## Database Creator\n",
    "This code finds all the rosbag files in a given path and concatenates them into a single dataframe before saving the as a new .csv file."
   ]
  },
  {
   "cell_type": "code",
   "execution_count": 29,
   "metadata": {
    "ExecuteTime": {
     "end_time": "2020-06-30T10:06:15.852434Z",
     "start_time": "2020-06-30T10:06:15.848626Z"
    }
   },
   "outputs": [],
   "source": [
    "import glob\n",
    "import pandas as pd"
   ]
  },
  {
   "cell_type": "markdown",
   "metadata": {},
   "source": [
    "### Set Path:\n",
    "Set your own path to your stored .csv files.\n",
    "The get_path function below is used to set the path in the concatenator function."
   ]
  },
  {
   "cell_type": "code",
   "execution_count": 30,
   "metadata": {
    "ExecuteTime": {
     "end_time": "2020-06-30T10:06:20.654888Z",
     "start_time": "2020-06-30T10:06:20.650497Z"
    }
   },
   "outputs": [],
   "source": [
    "PATH = \"/home/ur10pc/Desktop/robot_data2/*/\"\n",
    "\n",
    "def get_path():\n",
    "    return PATH "
   ]
  },
  {
   "cell_type": "markdown",
   "metadata": {},
   "source": [
    "### Concatenator Function:\n",
    "This function serches the PATH for .csv files and concats them to form one big dataframe."
   ]
  },
  {
   "cell_type": "code",
   "execution_count": 39,
   "metadata": {
    "ExecuteTime": {
     "end_time": "2020-06-30T10:08:27.983514Z",
     "start_time": "2020-06-30T10:08:27.976398Z"
    }
   },
   "outputs": [],
   "source": [
    "def concatenator(file_name):\n",
    "    PATH = get_path()\n",
    "    data = pd.DataFrame()\n",
    "    for file in glob.glob(f'{PATH}'+f'*{file_name}_throttle.csv'):\n",
    "        x = pd.read_csv(file, low_memory=False)\n",
    "        data = pd.concat([data,x],axis=0)\n",
    "    return data"
   ]
  },
  {
   "cell_type": "markdown",
   "metadata": {},
   "source": [
    "### Call the Concatenate Function:\n",
    "Create two instances of concatenated data using the concatenate function. \n"
   ]
  },
  {
   "cell_type": "code",
   "execution_count": null,
   "metadata": {
    "ExecuteTime": {
     "end_time": "2020-06-30T10:08:35.618995Z",
     "start_time": "2020-06-30T10:08:34.225415Z"
    }
   },
   "outputs": [],
   "source": [
    "ur_data = concatenator('joint_states')\n",
    "force_data = concatenator('robotiq_ft_sensor')\n"
   ]
  },
  {
   "cell_type": "markdown",
   "metadata": {},
   "source": [
    "### Save Data:\n",
    "Save the two new dataframes as .csv files."
   ]
  },
  {
   "cell_type": "code",
   "execution_count": 45,
   "metadata": {
    "ExecuteTime": {
     "end_time": "2020-06-30T10:10:08.939021Z",
     "start_time": "2020-06-30T10:10:07.485887Z"
    }
   },
   "outputs": [],
   "source": [
    "ur_data.to_csv('/home/ur10pc/Desktop/robot_data2/ur_df/ur_data.csv', index=False)\n",
    "force_data.to_csv('/home/ur10pc/Desktop/robot_data2/ur_df/force_data.csv', index=False)\n"
   ]
  },
  {
   "cell_type": "markdown",
   "metadata": {},
   "source": [
    "### Display the UR Data:"
   ]
  },
  {
   "cell_type": "code",
   "execution_count": 47,
   "metadata": {
    "ExecuteTime": {
     "end_time": "2020-06-30T10:17:58.629554Z",
     "start_time": "2020-06-30T10:17:58.610629Z"
    },
    "scrolled": true
   },
   "outputs": [
    {
     "name": "stdout",
     "output_type": "stream",
     "text": [
      "<class 'pandas.core.frame.DataFrame'>\n",
      "(72000, 12)\n"
     ]
    },
    {
     "data": {
      "text/html": [
       "<div>\n",
       "<style scoped>\n",
       "    .dataframe tbody tr th:only-of-type {\n",
       "        vertical-align: middle;\n",
       "    }\n",
       "\n",
       "    .dataframe tbody tr th {\n",
       "        vertical-align: top;\n",
       "    }\n",
       "\n",
       "    .dataframe thead th {\n",
       "        text-align: right;\n",
       "    }\n",
       "</style>\n",
       "<table border=\"1\" class=\"dataframe\">\n",
       "  <thead>\n",
       "    <tr style=\"text-align: right;\">\n",
       "      <th></th>\n",
       "      <th>rosbagTimestamp</th>\n",
       "      <th>header</th>\n",
       "      <th>seq</th>\n",
       "      <th>stamp</th>\n",
       "      <th>secs</th>\n",
       "      <th>nsecs</th>\n",
       "      <th>frame_id</th>\n",
       "      <th>name</th>\n",
       "      <th>wrist_3_joint]</th>\n",
       "      <th>position</th>\n",
       "      <th>velocity</th>\n",
       "      <th>effort</th>\n",
       "    </tr>\n",
       "  </thead>\n",
       "  <tbody>\n",
       "    <tr>\n",
       "      <th>0</th>\n",
       "      <td>1584450951462869270</td>\n",
       "      <td>NaN</td>\n",
       "      <td>1132446</td>\n",
       "      <td>NaN</td>\n",
       "      <td>1584450951</td>\n",
       "      <td>462444927</td>\n",
       "      <td>''</td>\n",
       "      <td>[shoulder_pan_joint, shoulder_lift_joint, elbo...</td>\n",
       "      <td>[1.4048302173614502, -1.1717646757708948, 2.48...</td>\n",
       "      <td>[0.0, 0.0, -0.0, 0.0, 0.0, 0.0]</td>\n",
       "      <td>[-0.2838135063648224, -4.325867176055908, -1.0...</td>\n",
       "      <td>NaN</td>\n",
       "    </tr>\n",
       "    <tr>\n",
       "      <th>1</th>\n",
       "      <td>1584450951574817913</td>\n",
       "      <td>NaN</td>\n",
       "      <td>1132460</td>\n",
       "      <td>NaN</td>\n",
       "      <td>1584450951</td>\n",
       "      <td>574403820</td>\n",
       "      <td>''</td>\n",
       "      <td>[shoulder_pan_joint, shoulder_lift_joint, elbo...</td>\n",
       "      <td>[1.4047942161560059, -1.1717646757708948, 2.48...</td>\n",
       "      <td>[0.0, 0.0, -0.0, 0.0, 0.0, 0.0]</td>\n",
       "      <td>[-0.3112793266773224, -4.193115711212158, -1.0...</td>\n",
       "      <td>NaN</td>\n",
       "    </tr>\n",
       "    <tr>\n",
       "      <th>2</th>\n",
       "      <td>1584450951686910665</td>\n",
       "      <td>NaN</td>\n",
       "      <td>1132474</td>\n",
       "      <td>NaN</td>\n",
       "      <td>1584450951</td>\n",
       "      <td>686472517</td>\n",
       "      <td>''</td>\n",
       "      <td>[shoulder_pan_joint, shoulder_lift_joint, elbo...</td>\n",
       "      <td>[1.4048421382904053, -1.1717522780047815, 2.48...</td>\n",
       "      <td>[0.0, 0.0, -0.0, 0.0, 0.0, 0.0]</td>\n",
       "      <td>[-0.3021240532398224, -4.174805164337158, -1.0...</td>\n",
       "      <td>NaN</td>\n",
       "    </tr>\n",
       "    <tr>\n",
       "      <th>3</th>\n",
       "      <td>1584450951798816259</td>\n",
       "      <td>NaN</td>\n",
       "      <td>1132488</td>\n",
       "      <td>NaN</td>\n",
       "      <td>1584450951</td>\n",
       "      <td>798397817</td>\n",
       "      <td>''</td>\n",
       "      <td>[shoulder_pan_joint, shoulder_lift_joint, elbo...</td>\n",
       "      <td>[1.4048181772232056, -1.1717522780047815, 2.48...</td>\n",
       "      <td>[0.0, 0.0, -0.0, 0.0, 0.0, 0.0]</td>\n",
       "      <td>[-0.3204346001148224, -4.229736804962158, -1.0...</td>\n",
       "      <td>NaN</td>\n",
       "    </tr>\n",
       "    <tr>\n",
       "      <th>4</th>\n",
       "      <td>1584450951910741398</td>\n",
       "      <td>NaN</td>\n",
       "      <td>1132502</td>\n",
       "      <td>NaN</td>\n",
       "      <td>1584450951</td>\n",
       "      <td>910392727</td>\n",
       "      <td>''</td>\n",
       "      <td>[shoulder_pan_joint, shoulder_lift_joint, elbo...</td>\n",
       "      <td>[1.4048062562942505, -1.17177659669985, 2.4830...</td>\n",
       "      <td>[0.0, 0.0, -0.0, 0.0, 0.0, 0.0]</td>\n",
       "      <td>[-0.2929687798023224, -4.183960437774658, -1.0...</td>\n",
       "      <td>NaN</td>\n",
       "    </tr>\n",
       "  </tbody>\n",
       "</table>\n",
       "</div>"
      ],
      "text/plain": [
       "       rosbagTimestamp  header      seq  stamp        secs      nsecs  \\\n",
       "0  1584450951462869270     NaN  1132446    NaN  1584450951  462444927   \n",
       "1  1584450951574817913     NaN  1132460    NaN  1584450951  574403820   \n",
       "2  1584450951686910665     NaN  1132474    NaN  1584450951  686472517   \n",
       "3  1584450951798816259     NaN  1132488    NaN  1584450951  798397817   \n",
       "4  1584450951910741398     NaN  1132502    NaN  1584450951  910392727   \n",
       "\n",
       "  frame_id                                               name  \\\n",
       "0       ''  [shoulder_pan_joint, shoulder_lift_joint, elbo...   \n",
       "1       ''  [shoulder_pan_joint, shoulder_lift_joint, elbo...   \n",
       "2       ''  [shoulder_pan_joint, shoulder_lift_joint, elbo...   \n",
       "3       ''  [shoulder_pan_joint, shoulder_lift_joint, elbo...   \n",
       "4       ''  [shoulder_pan_joint, shoulder_lift_joint, elbo...   \n",
       "\n",
       "                                      wrist_3_joint]  \\\n",
       "0  [1.4048302173614502, -1.1717646757708948, 2.48...   \n",
       "1  [1.4047942161560059, -1.1717646757708948, 2.48...   \n",
       "2  [1.4048421382904053, -1.1717522780047815, 2.48...   \n",
       "3  [1.4048181772232056, -1.1717522780047815, 2.48...   \n",
       "4  [1.4048062562942505, -1.17177659669985, 2.4830...   \n",
       "\n",
       "                          position  \\\n",
       "0  [0.0, 0.0, -0.0, 0.0, 0.0, 0.0]   \n",
       "1  [0.0, 0.0, -0.0, 0.0, 0.0, 0.0]   \n",
       "2  [0.0, 0.0, -0.0, 0.0, 0.0, 0.0]   \n",
       "3  [0.0, 0.0, -0.0, 0.0, 0.0, 0.0]   \n",
       "4  [0.0, 0.0, -0.0, 0.0, 0.0, 0.0]   \n",
       "\n",
       "                                            velocity  effort  \n",
       "0  [-0.2838135063648224, -4.325867176055908, -1.0...     NaN  \n",
       "1  [-0.3112793266773224, -4.193115711212158, -1.0...     NaN  \n",
       "2  [-0.3021240532398224, -4.174805164337158, -1.0...     NaN  \n",
       "3  [-0.3204346001148224, -4.229736804962158, -1.0...     NaN  \n",
       "4  [-0.2929687798023224, -4.183960437774658, -1.0...     NaN  "
      ]
     },
     "metadata": {},
     "output_type": "display_data"
    }
   ],
   "source": [
    "print(type(ur_data))\n",
    "print(ur_data.shape)\n",
    "display(ur_data.head())"
   ]
  },
  {
   "cell_type": "markdown",
   "metadata": {},
   "source": [
    "### Display the Robotiq Force Torque Data:"
   ]
  },
  {
   "cell_type": "code",
   "execution_count": 48,
   "metadata": {
    "ExecuteTime": {
     "end_time": "2020-06-30T10:19:51.332611Z",
     "start_time": "2020-06-30T10:19:51.316440Z"
    },
    "scrolled": true
   },
   "outputs": [
    {
     "name": "stdout",
     "output_type": "stream",
     "text": [
      "<class 'pandas.core.frame.DataFrame'>\n",
      "(72000, 7)\n"
     ]
    },
    {
     "data": {
      "text/html": [
       "<div>\n",
       "<style scoped>\n",
       "    .dataframe tbody tr th:only-of-type {\n",
       "        vertical-align: middle;\n",
       "    }\n",
       "\n",
       "    .dataframe tbody tr th {\n",
       "        vertical-align: top;\n",
       "    }\n",
       "\n",
       "    .dataframe thead th {\n",
       "        text-align: right;\n",
       "    }\n",
       "</style>\n",
       "<table border=\"1\" class=\"dataframe\">\n",
       "  <thead>\n",
       "    <tr style=\"text-align: right;\">\n",
       "      <th></th>\n",
       "      <th>rosbagTimestamp</th>\n",
       "      <th>Fx</th>\n",
       "      <th>Fy</th>\n",
       "      <th>Fz</th>\n",
       "      <th>Mx</th>\n",
       "      <th>My</th>\n",
       "      <th>Mz</th>\n",
       "    </tr>\n",
       "  </thead>\n",
       "  <tbody>\n",
       "    <tr>\n",
       "      <th>0</th>\n",
       "      <td>1584450951446611324</td>\n",
       "      <td>0.000000</td>\n",
       "      <td>-0.030003</td>\n",
       "      <td>0.000000</td>\n",
       "      <td>0.004</td>\n",
       "      <td>0.002</td>\n",
       "      <td>-0.002</td>\n",
       "    </tr>\n",
       "    <tr>\n",
       "      <th>1</th>\n",
       "      <td>1584450951561339268</td>\n",
       "      <td>-0.040001</td>\n",
       "      <td>-0.180000</td>\n",
       "      <td>-0.020000</td>\n",
       "      <td>-0.001</td>\n",
       "      <td>0.003</td>\n",
       "      <td>-0.002</td>\n",
       "    </tr>\n",
       "    <tr>\n",
       "      <th>2</th>\n",
       "      <td>1584450951672150117</td>\n",
       "      <td>0.000000</td>\n",
       "      <td>-0.090000</td>\n",
       "      <td>-0.010002</td>\n",
       "      <td>0.001</td>\n",
       "      <td>0.002</td>\n",
       "      <td>-0.001</td>\n",
       "    </tr>\n",
       "    <tr>\n",
       "      <th>3</th>\n",
       "      <td>1584450951782787921</td>\n",
       "      <td>0.009995</td>\n",
       "      <td>-0.100002</td>\n",
       "      <td>0.009998</td>\n",
       "      <td>0.001</td>\n",
       "      <td>0.002</td>\n",
       "      <td>-0.001</td>\n",
       "    </tr>\n",
       "    <tr>\n",
       "      <th>4</th>\n",
       "      <td>1584450951897493023</td>\n",
       "      <td>-0.020004</td>\n",
       "      <td>0.049999</td>\n",
       "      <td>-0.010002</td>\n",
       "      <td>0.003</td>\n",
       "      <td>0.004</td>\n",
       "      <td>-0.004</td>\n",
       "    </tr>\n",
       "  </tbody>\n",
       "</table>\n",
       "</div>"
      ],
      "text/plain": [
       "       rosbagTimestamp        Fx        Fy        Fz     Mx     My     Mz\n",
       "0  1584450951446611324  0.000000 -0.030003  0.000000  0.004  0.002 -0.002\n",
       "1  1584450951561339268 -0.040001 -0.180000 -0.020000 -0.001  0.003 -0.002\n",
       "2  1584450951672150117  0.000000 -0.090000 -0.010002  0.001  0.002 -0.001\n",
       "3  1584450951782787921  0.009995 -0.100002  0.009998  0.001  0.002 -0.001\n",
       "4  1584450951897493023 -0.020004  0.049999 -0.010002  0.003  0.004 -0.004"
      ]
     },
     "metadata": {},
     "output_type": "display_data"
    }
   ],
   "source": [
    "print(type(force_data))\n",
    "print(force_data.shape)\n",
    "display(force_data.head())"
   ]
  },
  {
   "cell_type": "markdown",
   "metadata": {},
   "source": [
    "### Explore the Data:\n",
    "Using the pandas.describe method one can usually get some interesting insights into the data; however, not yet for the ur_data, as this dataframe still requires a lot of pre-processing. "
   ]
  },
  {
   "cell_type": "code",
   "execution_count": 44,
   "metadata": {
    "ExecuteTime": {
     "end_time": "2020-06-30T10:09:42.775293Z",
     "start_time": "2020-06-30T10:09:42.683929Z"
    }
   },
   "outputs": [
    {
     "data": {
      "text/html": [
       "<div>\n",
       "<style scoped>\n",
       "    .dataframe tbody tr th:only-of-type {\n",
       "        vertical-align: middle;\n",
       "    }\n",
       "\n",
       "    .dataframe tbody tr th {\n",
       "        vertical-align: top;\n",
       "    }\n",
       "\n",
       "    .dataframe thead th {\n",
       "        text-align: right;\n",
       "    }\n",
       "</style>\n",
       "<table border=\"1\" class=\"dataframe\">\n",
       "  <thead>\n",
       "    <tr style=\"text-align: right;\">\n",
       "      <th></th>\n",
       "      <th>rosbagTimestamp</th>\n",
       "      <th>header</th>\n",
       "      <th>seq</th>\n",
       "      <th>stamp</th>\n",
       "      <th>secs</th>\n",
       "      <th>nsecs</th>\n",
       "      <th>effort</th>\n",
       "    </tr>\n",
       "  </thead>\n",
       "  <tbody>\n",
       "    <tr>\n",
       "      <th>count</th>\n",
       "      <td>7.200000e+04</td>\n",
       "      <td>0.0</td>\n",
       "      <td>7.200000e+04</td>\n",
       "      <td>0.0</td>\n",
       "      <td>7.200000e+04</td>\n",
       "      <td>7.200000e+04</td>\n",
       "      <td>0.0</td>\n",
       "    </tr>\n",
       "    <tr>\n",
       "      <th>mean</th>\n",
       "      <td>1.584438e+18</td>\n",
       "      <td>NaN</td>\n",
       "      <td>9.545231e+05</td>\n",
       "      <td>NaN</td>\n",
       "      <td>1.584438e+09</td>\n",
       "      <td>5.000124e+08</td>\n",
       "      <td>NaN</td>\n",
       "    </tr>\n",
       "    <tr>\n",
       "      <th>std</th>\n",
       "      <td>2.740981e+13</td>\n",
       "      <td>NaN</td>\n",
       "      <td>6.168925e+05</td>\n",
       "      <td>NaN</td>\n",
       "      <td>2.740981e+04</td>\n",
       "      <td>2.886781e+08</td>\n",
       "      <td>NaN</td>\n",
       "    </tr>\n",
       "    <tr>\n",
       "      <th>min</th>\n",
       "      <td>1.584377e+18</td>\n",
       "      <td>NaN</td>\n",
       "      <td>5.978900e+04</td>\n",
       "      <td>NaN</td>\n",
       "      <td>1.584377e+09</td>\n",
       "      <td>2.934700e+04</td>\n",
       "      <td>NaN</td>\n",
       "    </tr>\n",
       "    <tr>\n",
       "      <th>25%</th>\n",
       "      <td>1.584443e+18</td>\n",
       "      <td>NaN</td>\n",
       "      <td>4.977750e+05</td>\n",
       "      <td>NaN</td>\n",
       "      <td>1.584443e+09</td>\n",
       "      <td>2.500244e+08</td>\n",
       "      <td>NaN</td>\n",
       "    </tr>\n",
       "    <tr>\n",
       "      <th>50%</th>\n",
       "      <td>1.584447e+18</td>\n",
       "      <td>NaN</td>\n",
       "      <td>7.367810e+05</td>\n",
       "      <td>NaN</td>\n",
       "      <td>1.584447e+09</td>\n",
       "      <td>5.000802e+08</td>\n",
       "      <td>NaN</td>\n",
       "    </tr>\n",
       "    <tr>\n",
       "      <th>75%</th>\n",
       "      <td>1.584453e+18</td>\n",
       "      <td>NaN</td>\n",
       "      <td>1.386220e+06</td>\n",
       "      <td>NaN</td>\n",
       "      <td>1.584453e+09</td>\n",
       "      <td>7.500138e+08</td>\n",
       "      <td>NaN</td>\n",
       "    </tr>\n",
       "    <tr>\n",
       "      <th>max</th>\n",
       "      <td>1.584462e+18</td>\n",
       "      <td>NaN</td>\n",
       "      <td>2.539741e+06</td>\n",
       "      <td>NaN</td>\n",
       "      <td>1.584462e+09</td>\n",
       "      <td>9.999743e+08</td>\n",
       "      <td>NaN</td>\n",
       "    </tr>\n",
       "  </tbody>\n",
       "</table>\n",
       "</div>"
      ],
      "text/plain": [
       "       rosbagTimestamp  header           seq  stamp          secs  \\\n",
       "count     7.200000e+04     0.0  7.200000e+04    0.0  7.200000e+04   \n",
       "mean      1.584438e+18     NaN  9.545231e+05    NaN  1.584438e+09   \n",
       "std       2.740981e+13     NaN  6.168925e+05    NaN  2.740981e+04   \n",
       "min       1.584377e+18     NaN  5.978900e+04    NaN  1.584377e+09   \n",
       "25%       1.584443e+18     NaN  4.977750e+05    NaN  1.584443e+09   \n",
       "50%       1.584447e+18     NaN  7.367810e+05    NaN  1.584447e+09   \n",
       "75%       1.584453e+18     NaN  1.386220e+06    NaN  1.584453e+09   \n",
       "max       1.584462e+18     NaN  2.539741e+06    NaN  1.584462e+09   \n",
       "\n",
       "              nsecs  effort  \n",
       "count  7.200000e+04     0.0  \n",
       "mean   5.000124e+08     NaN  \n",
       "std    2.886781e+08     NaN  \n",
       "min    2.934700e+04     NaN  \n",
       "25%    2.500244e+08     NaN  \n",
       "50%    5.000802e+08     NaN  \n",
       "75%    7.500138e+08     NaN  \n",
       "max    9.999743e+08     NaN  "
      ]
     },
     "metadata": {},
     "output_type": "display_data"
    },
    {
     "data": {
      "text/html": [
       "<div>\n",
       "<style scoped>\n",
       "    .dataframe tbody tr th:only-of-type {\n",
       "        vertical-align: middle;\n",
       "    }\n",
       "\n",
       "    .dataframe tbody tr th {\n",
       "        vertical-align: top;\n",
       "    }\n",
       "\n",
       "    .dataframe thead th {\n",
       "        text-align: right;\n",
       "    }\n",
       "</style>\n",
       "<table border=\"1\" class=\"dataframe\">\n",
       "  <thead>\n",
       "    <tr style=\"text-align: right;\">\n",
       "      <th></th>\n",
       "      <th>rosbagTimestamp</th>\n",
       "      <th>Fx</th>\n",
       "      <th>Fy</th>\n",
       "      <th>Fz</th>\n",
       "      <th>Mx</th>\n",
       "      <th>My</th>\n",
       "      <th>Mz</th>\n",
       "    </tr>\n",
       "  </thead>\n",
       "  <tbody>\n",
       "    <tr>\n",
       "      <th>count</th>\n",
       "      <td>7.200000e+04</td>\n",
       "      <td>72000.000000</td>\n",
       "      <td>72000.000000</td>\n",
       "      <td>72000.000000</td>\n",
       "      <td>72000.000000</td>\n",
       "      <td>72000.000000</td>\n",
       "      <td>72000.000000</td>\n",
       "    </tr>\n",
       "    <tr>\n",
       "      <th>mean</th>\n",
       "      <td>1.584438e+18</td>\n",
       "      <td>-0.871748</td>\n",
       "      <td>-1.286716</td>\n",
       "      <td>-0.353326</td>\n",
       "      <td>0.276210</td>\n",
       "      <td>-0.225635</td>\n",
       "      <td>0.042879</td>\n",
       "    </tr>\n",
       "    <tr>\n",
       "      <th>std</th>\n",
       "      <td>2.740981e+13</td>\n",
       "      <td>3.798046</td>\n",
       "      <td>9.506904</td>\n",
       "      <td>5.445069</td>\n",
       "      <td>1.658892</td>\n",
       "      <td>0.762813</td>\n",
       "      <td>0.274737</td>\n",
       "    </tr>\n",
       "    <tr>\n",
       "      <th>min</th>\n",
       "      <td>1.584377e+18</td>\n",
       "      <td>-32.180000</td>\n",
       "      <td>-69.699997</td>\n",
       "      <td>-47.439999</td>\n",
       "      <td>-15.836000</td>\n",
       "      <td>-7.274000</td>\n",
       "      <td>-1.141000</td>\n",
       "    </tr>\n",
       "    <tr>\n",
       "      <th>25%</th>\n",
       "      <td>1.584443e+18</td>\n",
       "      <td>-2.239998</td>\n",
       "      <td>-2.029999</td>\n",
       "      <td>-0.570000</td>\n",
       "      <td>-0.330000</td>\n",
       "      <td>-0.394000</td>\n",
       "      <td>-0.125000</td>\n",
       "    </tr>\n",
       "    <tr>\n",
       "      <th>50%</th>\n",
       "      <td>1.584447e+18</td>\n",
       "      <td>-0.510002</td>\n",
       "      <td>0.279999</td>\n",
       "      <td>0.700001</td>\n",
       "      <td>-0.007000</td>\n",
       "      <td>-0.133000</td>\n",
       "      <td>0.000000</td>\n",
       "    </tr>\n",
       "    <tr>\n",
       "      <th>75%</th>\n",
       "      <td>1.584453e+18</td>\n",
       "      <td>0.750000</td>\n",
       "      <td>2.349998</td>\n",
       "      <td>1.820000</td>\n",
       "      <td>0.324000</td>\n",
       "      <td>0.067000</td>\n",
       "      <td>0.228000</td>\n",
       "    </tr>\n",
       "    <tr>\n",
       "      <th>max</th>\n",
       "      <td>1.584462e+18</td>\n",
       "      <td>38.099998</td>\n",
       "      <td>92.529999</td>\n",
       "      <td>60.980000</td>\n",
       "      <td>12.685999</td>\n",
       "      <td>7.325000</td>\n",
       "      <td>1.208000</td>\n",
       "    </tr>\n",
       "  </tbody>\n",
       "</table>\n",
       "</div>"
      ],
      "text/plain": [
       "       rosbagTimestamp            Fx            Fy            Fz  \\\n",
       "count     7.200000e+04  72000.000000  72000.000000  72000.000000   \n",
       "mean      1.584438e+18     -0.871748     -1.286716     -0.353326   \n",
       "std       2.740981e+13      3.798046      9.506904      5.445069   \n",
       "min       1.584377e+18    -32.180000    -69.699997    -47.439999   \n",
       "25%       1.584443e+18     -2.239998     -2.029999     -0.570000   \n",
       "50%       1.584447e+18     -0.510002      0.279999      0.700001   \n",
       "75%       1.584453e+18      0.750000      2.349998      1.820000   \n",
       "max       1.584462e+18     38.099998     92.529999     60.980000   \n",
       "\n",
       "                 Mx            My            Mz  \n",
       "count  72000.000000  72000.000000  72000.000000  \n",
       "mean       0.276210     -0.225635      0.042879  \n",
       "std        1.658892      0.762813      0.274737  \n",
       "min      -15.836000     -7.274000     -1.141000  \n",
       "25%       -0.330000     -0.394000     -0.125000  \n",
       "50%       -0.007000     -0.133000      0.000000  \n",
       "75%        0.324000      0.067000      0.228000  \n",
       "max       12.685999      7.325000      1.208000  "
      ]
     },
     "metadata": {},
     "output_type": "display_data"
    }
   ],
   "source": [
    "display(ur_data.describe())\n",
    "display(force_data.describe())\n"
   ]
  }
 ],
 "metadata": {
  "kernelspec": {
   "display_name": "Python 3",
   "language": "python",
   "name": "python3"
  },
  "language_info": {
   "codemirror_mode": {
    "name": "ipython",
    "version": 3
   },
   "file_extension": ".py",
   "mimetype": "text/x-python",
   "name": "python",
   "nbconvert_exporter": "python",
   "pygments_lexer": "ipython3",
   "version": "3.7.6"
  }
 },
 "nbformat": 4,
 "nbformat_minor": 4
}
