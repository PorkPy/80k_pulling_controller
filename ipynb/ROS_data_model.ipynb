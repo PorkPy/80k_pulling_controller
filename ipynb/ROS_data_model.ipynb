{
 "cells": [
  {
   "cell_type": "markdown",
   "metadata": {},
   "source": []
  },
  {
   "cell_type": "code",
   "execution_count": 1,
   "metadata": {
    "ExecuteTime": {
     "end_time": "2020-09-29T12:55:44.476485Z",
     "start_time": "2020-09-29T12:55:44.267478Z"
    },
    "scrolled": false
   },
   "outputs": [],
   "source": [
    "import pandas as pd\n",
    "import numpy as np\n",
    "\n",
    "\n",
    "## Data location = Dataesktop/robot_data2/80k_data"
   ]
  },
  {
   "cell_type": "markdown",
   "metadata": {},
   "source": [
    "## Import Robotiq Force/Torque Data\n",
    "This is the force/torque data from the robotiq sensor fitted to the UR10's end-effector. \n",
    "It was collected using the Robot Operating System (ROS) and ROSbags which were converted to csv."
   ]
  },
  {
   "cell_type": "code",
   "execution_count": 5,
   "metadata": {
    "ExecuteTime": {
     "end_time": "2020-09-29T13:06:27.174296Z",
     "start_time": "2020-09-29T13:06:26.968033Z"
    },
    "scrolled": true
   },
   "outputs": [
    {
     "data": {
      "text/html": [
       "<div>\n",
       "<style scoped>\n",
       "    .dataframe tbody tr th:only-of-type {\n",
       "        vertical-align: middle;\n",
       "    }\n",
       "\n",
       "    .dataframe tbody tr th {\n",
       "        vertical-align: top;\n",
       "    }\n",
       "\n",
       "    .dataframe thead th {\n",
       "        text-align: right;\n",
       "    }\n",
       "</style>\n",
       "<table border=\"1\" class=\"dataframe\">\n",
       "  <thead>\n",
       "    <tr style=\"text-align: right;\">\n",
       "      <th></th>\n",
       "      <th>Fx</th>\n",
       "      <th>Fy</th>\n",
       "      <th>Fz</th>\n",
       "      <th>Rx</th>\n",
       "      <th>Ry</th>\n",
       "      <th>Rz</th>\n",
       "    </tr>\n",
       "  </thead>\n",
       "  <tbody>\n",
       "    <tr>\n",
       "      <th>0</th>\n",
       "      <td>0.00000</td>\n",
       "      <td>-0.03</td>\n",
       "      <td>0.00</td>\n",
       "      <td>0.004</td>\n",
       "      <td>0.002</td>\n",
       "      <td>-0.002</td>\n",
       "    </tr>\n",
       "    <tr>\n",
       "      <th>1</th>\n",
       "      <td>-0.04000</td>\n",
       "      <td>-0.18</td>\n",
       "      <td>-0.02</td>\n",
       "      <td>-0.001</td>\n",
       "      <td>0.003</td>\n",
       "      <td>-0.002</td>\n",
       "    </tr>\n",
       "    <tr>\n",
       "      <th>2</th>\n",
       "      <td>0.00000</td>\n",
       "      <td>-0.09</td>\n",
       "      <td>-0.01</td>\n",
       "      <td>0.001</td>\n",
       "      <td>0.002</td>\n",
       "      <td>-0.001</td>\n",
       "    </tr>\n",
       "    <tr>\n",
       "      <th>3</th>\n",
       "      <td>0.00999</td>\n",
       "      <td>-0.10</td>\n",
       "      <td>0.01</td>\n",
       "      <td>0.001</td>\n",
       "      <td>0.002</td>\n",
       "      <td>-0.001</td>\n",
       "    </tr>\n",
       "    <tr>\n",
       "      <th>4</th>\n",
       "      <td>-0.02000</td>\n",
       "      <td>0.05</td>\n",
       "      <td>-0.01</td>\n",
       "      <td>0.003</td>\n",
       "      <td>0.004</td>\n",
       "      <td>-0.004</td>\n",
       "    </tr>\n",
       "    <tr>\n",
       "      <th>...</th>\n",
       "      <td>...</td>\n",
       "      <td>...</td>\n",
       "      <td>...</td>\n",
       "      <td>...</td>\n",
       "      <td>...</td>\n",
       "      <td>...</td>\n",
       "    </tr>\n",
       "    <tr>\n",
       "      <th>71995</th>\n",
       "      <td>0.28000</td>\n",
       "      <td>1.43</td>\n",
       "      <td>0.95</td>\n",
       "      <td>-0.087</td>\n",
       "      <td>0.042</td>\n",
       "      <td>-0.048</td>\n",
       "    </tr>\n",
       "    <tr>\n",
       "      <th>71996</th>\n",
       "      <td>0.43000</td>\n",
       "      <td>1.90</td>\n",
       "      <td>0.95</td>\n",
       "      <td>-0.105</td>\n",
       "      <td>-0.002</td>\n",
       "      <td>-0.058</td>\n",
       "    </tr>\n",
       "    <tr>\n",
       "      <th>71997</th>\n",
       "      <td>0.24000</td>\n",
       "      <td>1.75</td>\n",
       "      <td>0.85</td>\n",
       "      <td>-0.204</td>\n",
       "      <td>-0.089</td>\n",
       "      <td>-0.066</td>\n",
       "    </tr>\n",
       "    <tr>\n",
       "      <th>71998</th>\n",
       "      <td>0.89000</td>\n",
       "      <td>1.01</td>\n",
       "      <td>1.62</td>\n",
       "      <td>-0.203</td>\n",
       "      <td>-0.056</td>\n",
       "      <td>-0.066</td>\n",
       "    </tr>\n",
       "    <tr>\n",
       "      <th>71999</th>\n",
       "      <td>0.36000</td>\n",
       "      <td>1.49</td>\n",
       "      <td>1.96</td>\n",
       "      <td>-0.219</td>\n",
       "      <td>-0.043</td>\n",
       "      <td>-0.072</td>\n",
       "    </tr>\n",
       "  </tbody>\n",
       "</table>\n",
       "<p>72000 rows × 6 columns</p>\n",
       "</div>"
      ],
      "text/plain": [
       "            Fx    Fy    Fz     Rx     Ry     Rz\n",
       "0      0.00000 -0.03  0.00  0.004  0.002 -0.002\n",
       "1     -0.04000 -0.18 -0.02 -0.001  0.003 -0.002\n",
       "2      0.00000 -0.09 -0.01  0.001  0.002 -0.001\n",
       "3      0.00999 -0.10  0.01  0.001  0.002 -0.001\n",
       "4     -0.02000  0.05 -0.01  0.003  0.004 -0.004\n",
       "...        ...   ...   ...    ...    ...    ...\n",
       "71995  0.28000  1.43  0.95 -0.087  0.042 -0.048\n",
       "71996  0.43000  1.90  0.95 -0.105 -0.002 -0.058\n",
       "71997  0.24000  1.75  0.85 -0.204 -0.089 -0.066\n",
       "71998  0.89000  1.01  1.62 -0.203 -0.056 -0.066\n",
       "71999  0.36000  1.49  1.96 -0.219 -0.043 -0.072\n",
       "\n",
       "[72000 rows x 6 columns]"
      ]
     },
     "metadata": {},
     "output_type": "display_data"
    }
   ],
   "source": [
    "robotiq_data = pd.read_csv('/home/ur10pc/Desktop/robot_data2/ur_df/force_data.csv')\n",
    "robotiq_data.columns = ['robotiq_TS', 'Fx', 'Fy', 'Fz', 'Rx', 'Ry', 'Rz']\n",
    "pd.set_option('display.precision', 5)\n",
    "\n",
    "#display(robotiq_data.head(2))\n",
    "df1= pd.DataFrame(robotiq_data.iloc[:, 1:7])\n",
    "display(df1)\n",
    "#print(robotiq_data)\n",
    "#display(robotiq_data)\n",
    "robotiq_TS = pd.DataFrame(robotiq_data.iloc[:,0])\n",
    "\n"
   ]
  },
  {
   "cell_type": "markdown",
   "metadata": {},
   "source": [
    "## Make New Separate Force and Torque Dataframes "
   ]
  },
  {
   "cell_type": "code",
   "execution_count": 6,
   "metadata": {
    "ExecuteTime": {
     "end_time": "2020-09-29T13:06:40.879432Z",
     "start_time": "2020-09-29T13:06:40.651133Z"
    },
    "scrolled": false
   },
   "outputs": [
    {
     "data": {
      "text/html": [
       "<style  type=\"text/css\" >\n",
       "</style><table id=\"T_9d8d5f5a_0254_11eb_90e7_bd7526267451\" style='display:inline'><caption>Force DF</caption><thead>    <tr>        <th class=\"blank level0\" ></th>        <th class=\"col_heading level0 col0\" >Fx</th>        <th class=\"col_heading level0 col1\" >Fy</th>        <th class=\"col_heading level0 col2\" >Fz</th>    </tr></thead><tbody>\n",
       "                <tr>\n",
       "                        <th id=\"T_9d8d5f5a_0254_11eb_90e7_bd7526267451level0_row0\" class=\"row_heading level0 row0\" >0</th>\n",
       "                        <td id=\"T_9d8d5f5a_0254_11eb_90e7_bd7526267451row0_col0\" class=\"data row0 col0\" >0.00000</td>\n",
       "                        <td id=\"T_9d8d5f5a_0254_11eb_90e7_bd7526267451row0_col1\" class=\"data row0 col1\" >-0.03000</td>\n",
       "                        <td id=\"T_9d8d5f5a_0254_11eb_90e7_bd7526267451row0_col2\" class=\"data row0 col2\" >0.00000</td>\n",
       "            </tr>\n",
       "            <tr>\n",
       "                        <th id=\"T_9d8d5f5a_0254_11eb_90e7_bd7526267451level0_row1\" class=\"row_heading level0 row1\" >1</th>\n",
       "                        <td id=\"T_9d8d5f5a_0254_11eb_90e7_bd7526267451row1_col0\" class=\"data row1 col0\" >-0.04000</td>\n",
       "                        <td id=\"T_9d8d5f5a_0254_11eb_90e7_bd7526267451row1_col1\" class=\"data row1 col1\" >-0.18000</td>\n",
       "                        <td id=\"T_9d8d5f5a_0254_11eb_90e7_bd7526267451row1_col2\" class=\"data row1 col2\" >-0.02000</td>\n",
       "            </tr>\n",
       "            <tr>\n",
       "                        <th id=\"T_9d8d5f5a_0254_11eb_90e7_bd7526267451level0_row2\" class=\"row_heading level0 row2\" >2</th>\n",
       "                        <td id=\"T_9d8d5f5a_0254_11eb_90e7_bd7526267451row2_col0\" class=\"data row2 col0\" >0.00000</td>\n",
       "                        <td id=\"T_9d8d5f5a_0254_11eb_90e7_bd7526267451row2_col1\" class=\"data row2 col1\" >-0.09000</td>\n",
       "                        <td id=\"T_9d8d5f5a_0254_11eb_90e7_bd7526267451row2_col2\" class=\"data row2 col2\" >-0.01000</td>\n",
       "            </tr>\n",
       "            <tr>\n",
       "                        <th id=\"T_9d8d5f5a_0254_11eb_90e7_bd7526267451level0_row3\" class=\"row_heading level0 row3\" >3</th>\n",
       "                        <td id=\"T_9d8d5f5a_0254_11eb_90e7_bd7526267451row3_col0\" class=\"data row3 col0\" >0.00999</td>\n",
       "                        <td id=\"T_9d8d5f5a_0254_11eb_90e7_bd7526267451row3_col1\" class=\"data row3 col1\" >-0.10000</td>\n",
       "                        <td id=\"T_9d8d5f5a_0254_11eb_90e7_bd7526267451row3_col2\" class=\"data row3 col2\" >0.01000</td>\n",
       "            </tr>\n",
       "            <tr>\n",
       "                        <th id=\"T_9d8d5f5a_0254_11eb_90e7_bd7526267451level0_row4\" class=\"row_heading level0 row4\" >4</th>\n",
       "                        <td id=\"T_9d8d5f5a_0254_11eb_90e7_bd7526267451row4_col0\" class=\"data row4 col0\" >-0.02000</td>\n",
       "                        <td id=\"T_9d8d5f5a_0254_11eb_90e7_bd7526267451row4_col1\" class=\"data row4 col1\" >0.05000</td>\n",
       "                        <td id=\"T_9d8d5f5a_0254_11eb_90e7_bd7526267451row4_col2\" class=\"data row4 col2\" >-0.01000</td>\n",
       "            </tr>\n",
       "    </tbody></table><style  type=\"text/css\" >\n",
       "</style><table id=\"T_9d8db720_0254_11eb_90e7_bd7526267451\" style='display:inline'><caption>Torque DF</caption><thead>    <tr>        <th class=\"blank level0\" ></th>        <th class=\"col_heading level0 col0\" >Rx</th>        <th class=\"col_heading level0 col1\" >Ry</th>        <th class=\"col_heading level0 col2\" >Rz</th>    </tr></thead><tbody>\n",
       "                <tr>\n",
       "                        <th id=\"T_9d8db720_0254_11eb_90e7_bd7526267451level0_row0\" class=\"row_heading level0 row0\" >0</th>\n",
       "                        <td id=\"T_9d8db720_0254_11eb_90e7_bd7526267451row0_col0\" class=\"data row0 col0\" >0.00400</td>\n",
       "                        <td id=\"T_9d8db720_0254_11eb_90e7_bd7526267451row0_col1\" class=\"data row0 col1\" >0.00200</td>\n",
       "                        <td id=\"T_9d8db720_0254_11eb_90e7_bd7526267451row0_col2\" class=\"data row0 col2\" >-0.00200</td>\n",
       "            </tr>\n",
       "            <tr>\n",
       "                        <th id=\"T_9d8db720_0254_11eb_90e7_bd7526267451level0_row1\" class=\"row_heading level0 row1\" >1</th>\n",
       "                        <td id=\"T_9d8db720_0254_11eb_90e7_bd7526267451row1_col0\" class=\"data row1 col0\" >-0.00100</td>\n",
       "                        <td id=\"T_9d8db720_0254_11eb_90e7_bd7526267451row1_col1\" class=\"data row1 col1\" >0.00300</td>\n",
       "                        <td id=\"T_9d8db720_0254_11eb_90e7_bd7526267451row1_col2\" class=\"data row1 col2\" >-0.00200</td>\n",
       "            </tr>\n",
       "            <tr>\n",
       "                        <th id=\"T_9d8db720_0254_11eb_90e7_bd7526267451level0_row2\" class=\"row_heading level0 row2\" >2</th>\n",
       "                        <td id=\"T_9d8db720_0254_11eb_90e7_bd7526267451row2_col0\" class=\"data row2 col0\" >0.00100</td>\n",
       "                        <td id=\"T_9d8db720_0254_11eb_90e7_bd7526267451row2_col1\" class=\"data row2 col1\" >0.00200</td>\n",
       "                        <td id=\"T_9d8db720_0254_11eb_90e7_bd7526267451row2_col2\" class=\"data row2 col2\" >-0.00100</td>\n",
       "            </tr>\n",
       "            <tr>\n",
       "                        <th id=\"T_9d8db720_0254_11eb_90e7_bd7526267451level0_row3\" class=\"row_heading level0 row3\" >3</th>\n",
       "                        <td id=\"T_9d8db720_0254_11eb_90e7_bd7526267451row3_col0\" class=\"data row3 col0\" >0.00100</td>\n",
       "                        <td id=\"T_9d8db720_0254_11eb_90e7_bd7526267451row3_col1\" class=\"data row3 col1\" >0.00200</td>\n",
       "                        <td id=\"T_9d8db720_0254_11eb_90e7_bd7526267451row3_col2\" class=\"data row3 col2\" >-0.00100</td>\n",
       "            </tr>\n",
       "            <tr>\n",
       "                        <th id=\"T_9d8db720_0254_11eb_90e7_bd7526267451level0_row4\" class=\"row_heading level0 row4\" >4</th>\n",
       "                        <td id=\"T_9d8db720_0254_11eb_90e7_bd7526267451row4_col0\" class=\"data row4 col0\" >0.00300</td>\n",
       "                        <td id=\"T_9d8db720_0254_11eb_90e7_bd7526267451row4_col1\" class=\"data row4 col1\" >0.00400</td>\n",
       "                        <td id=\"T_9d8db720_0254_11eb_90e7_bd7526267451row4_col2\" class=\"data row4 col2\" >-0.00400</td>\n",
       "            </tr>\n",
       "    </tbody></table>"
      ]
     },
     "metadata": {},
     "output_type": "display_data"
    }
   ],
   "source": [
    "force = pd.DataFrame(df1.iloc[:,0:3])\n",
    "torque = pd.DataFrame(df1.iloc[:,3:6])\n",
    "\n",
    "from IPython.display import display_html \n",
    "\n",
    "force_styler = force.head(5).style.set_table_attributes(\"style='display:inline'\").set_caption('Force DF')\n",
    "torque_styler = torque.head(5).style.set_table_attributes(\"style='display:inline'\").set_caption('Torque DF')\n",
    "\n",
    "display_html(force_styler._repr_html_()+torque_styler._repr_html_(), raw=True)\n",
    "\n"
   ]
  },
  {
   "cell_type": "markdown",
   "metadata": {},
   "source": [
    "## Vector Sum Calculations for Force and Torque\n",
    "As it stands, the force and torque are both 3d vectors. Summing the vector components returns a single positive int that can be used as a target features. "
   ]
  },
  {
   "cell_type": "code",
   "execution_count": 7,
   "metadata": {
    "ExecuteTime": {
     "end_time": "2020-09-29T13:06:45.111966Z",
     "start_time": "2020-09-29T13:06:45.090950Z"
    },
    "scrolled": false
   },
   "outputs": [
    {
     "data": {
      "text/html": [
       "<style  type=\"text/css\" >\n",
       "</style><table id=\"T_a0138858_0254_11eb_90e7_bd7526267451\" style='display:inline'><caption>Force Vector</caption><thead>    <tr>        <th class=\"blank level0\" ></th>        <th class=\"col_heading level0 col0\" >Force Vec</th>    </tr></thead><tbody>\n",
       "                <tr>\n",
       "                        <th id=\"T_a0138858_0254_11eb_90e7_bd7526267451level0_row0\" class=\"row_heading level0 row0\" >0</th>\n",
       "                        <td id=\"T_a0138858_0254_11eb_90e7_bd7526267451row0_col0\" class=\"data row0 col0\" >0.03000</td>\n",
       "            </tr>\n",
       "            <tr>\n",
       "                        <th id=\"T_a0138858_0254_11eb_90e7_bd7526267451level0_row1\" class=\"row_heading level0 row1\" >1</th>\n",
       "                        <td id=\"T_a0138858_0254_11eb_90e7_bd7526267451row1_col0\" class=\"data row1 col0\" >0.18547</td>\n",
       "            </tr>\n",
       "            <tr>\n",
       "                        <th id=\"T_a0138858_0254_11eb_90e7_bd7526267451level0_row2\" class=\"row_heading level0 row2\" >2</th>\n",
       "                        <td id=\"T_a0138858_0254_11eb_90e7_bd7526267451row2_col0\" class=\"data row2 col0\" >0.09055</td>\n",
       "            </tr>\n",
       "            <tr>\n",
       "                        <th id=\"T_a0138858_0254_11eb_90e7_bd7526267451level0_row3\" class=\"row_heading level0 row3\" >3</th>\n",
       "                        <td id=\"T_a0138858_0254_11eb_90e7_bd7526267451row3_col0\" class=\"data row3 col0\" >0.10100</td>\n",
       "            </tr>\n",
       "            <tr>\n",
       "                        <th id=\"T_a0138858_0254_11eb_90e7_bd7526267451level0_row4\" class=\"row_heading level0 row4\" >4</th>\n",
       "                        <td id=\"T_a0138858_0254_11eb_90e7_bd7526267451row4_col0\" class=\"data row4 col0\" >0.05477</td>\n",
       "            </tr>\n",
       "    </tbody></table><style  type=\"text/css\" >\n",
       "</style><table id=\"T_a013acac_0254_11eb_90e7_bd7526267451\" style='display:inline'><caption>Torque Vector</caption><thead>    <tr>        <th class=\"blank level0\" ></th>        <th class=\"col_heading level0 col0\" >Torque Vec</th>    </tr></thead><tbody>\n",
       "                <tr>\n",
       "                        <th id=\"T_a013acac_0254_11eb_90e7_bd7526267451level0_row0\" class=\"row_heading level0 row0\" >0</th>\n",
       "                        <td id=\"T_a013acac_0254_11eb_90e7_bd7526267451row0_col0\" class=\"data row0 col0\" >0.00490</td>\n",
       "            </tr>\n",
       "            <tr>\n",
       "                        <th id=\"T_a013acac_0254_11eb_90e7_bd7526267451level0_row1\" class=\"row_heading level0 row1\" >1</th>\n",
       "                        <td id=\"T_a013acac_0254_11eb_90e7_bd7526267451row1_col0\" class=\"data row1 col0\" >0.00374</td>\n",
       "            </tr>\n",
       "            <tr>\n",
       "                        <th id=\"T_a013acac_0254_11eb_90e7_bd7526267451level0_row2\" class=\"row_heading level0 row2\" >2</th>\n",
       "                        <td id=\"T_a013acac_0254_11eb_90e7_bd7526267451row2_col0\" class=\"data row2 col0\" >0.00245</td>\n",
       "            </tr>\n",
       "            <tr>\n",
       "                        <th id=\"T_a013acac_0254_11eb_90e7_bd7526267451level0_row3\" class=\"row_heading level0 row3\" >3</th>\n",
       "                        <td id=\"T_a013acac_0254_11eb_90e7_bd7526267451row3_col0\" class=\"data row3 col0\" >0.00245</td>\n",
       "            </tr>\n",
       "            <tr>\n",
       "                        <th id=\"T_a013acac_0254_11eb_90e7_bd7526267451level0_row4\" class=\"row_heading level0 row4\" >4</th>\n",
       "                        <td id=\"T_a013acac_0254_11eb_90e7_bd7526267451row4_col0\" class=\"data row4 col0\" >0.00640</td>\n",
       "            </tr>\n",
       "    </tbody></table>"
      ]
     },
     "metadata": {},
     "output_type": "display_data"
    }
   ],
   "source": [
    "force_vector = pd.DataFrame(np.sqrt((force['Fx']**2)+(force['Fy']**2)+(force['Fz']**2)))\n",
    "torque_vector = pd.DataFrame(np.sqrt((torque['Rx']**2)+(torque['Ry']**2)+(torque['Rz']**2)))\n",
    "force_vector.columns =['Force Vec']\n",
    "torque_vector.columns =['Torque Vec']\n",
    "\n",
    "force_vector_styler = force_vector.head(5).style.set_table_attributes(\"style='display:inline'\").set_caption('Force Vector')\n",
    "torque_vector_styler = torque_vector.head(5).style.set_table_attributes(\"style='display:inline'\").set_caption('Torque Vector')\n",
    "\n",
    "display_html(force_vector_styler._repr_html_()+torque_vector_styler._repr_html_(), raw=True)\n"
   ]
  },
  {
   "cell_type": "markdown",
   "metadata": {},
   "source": [
    "## Reduce The Magnitude of The ROS Timestamp \n",
    "The default ROS timestamp is expressed in nanoseconds. Dividing by x10^9 converts the timestamp to seconds which is much easier to compare timestamps from different dataframes, as the data frequency was set to 10Hz, there should be 10 datapoints with the same second denomination but differing tenths of seconds. This is what was used to calibrate the ROS topic throttle messages and the ROSbag sampling frequency. "
   ]
  },
  {
   "cell_type": "code",
   "execution_count": 8,
   "metadata": {
    "ExecuteTime": {
     "end_time": "2020-09-29T13:06:50.899795Z",
     "start_time": "2020-09-29T13:06:50.883284Z"
    },
    "scrolled": false
   },
   "outputs": [
    {
     "data": {
      "text/html": [
       "<div>\n",
       "<style scoped>\n",
       "    .dataframe tbody tr th:only-of-type {\n",
       "        vertical-align: middle;\n",
       "    }\n",
       "\n",
       "    .dataframe tbody tr th {\n",
       "        vertical-align: top;\n",
       "    }\n",
       "\n",
       "    .dataframe thead th {\n",
       "        text-align: right;\n",
       "    }\n",
       "</style>\n",
       "<table border=\"1\" class=\"dataframe\">\n",
       "  <thead>\n",
       "    <tr style=\"text-align: right;\">\n",
       "      <th></th>\n",
       "      <th>robotiq_TS</th>\n",
       "    </tr>\n",
       "  </thead>\n",
       "  <tbody>\n",
       "    <tr>\n",
       "      <th>0</th>\n",
       "      <td>1584450951.447</td>\n",
       "    </tr>\n",
       "    <tr>\n",
       "      <th>1</th>\n",
       "      <td>1584450951.561</td>\n",
       "    </tr>\n",
       "    <tr>\n",
       "      <th>2</th>\n",
       "      <td>1584450951.672</td>\n",
       "    </tr>\n",
       "    <tr>\n",
       "      <th>3</th>\n",
       "      <td>1584450951.783</td>\n",
       "    </tr>\n",
       "    <tr>\n",
       "      <th>4</th>\n",
       "      <td>1584450951.897</td>\n",
       "    </tr>\n",
       "    <tr>\n",
       "      <th>...</th>\n",
       "      <td>...</td>\n",
       "    </tr>\n",
       "    <tr>\n",
       "      <th>71995</th>\n",
       "      <td>1584451631.211</td>\n",
       "    </tr>\n",
       "    <tr>\n",
       "      <th>71996</th>\n",
       "      <td>1584451631.322</td>\n",
       "    </tr>\n",
       "    <tr>\n",
       "      <th>71997</th>\n",
       "      <td>1584451631.433</td>\n",
       "    </tr>\n",
       "    <tr>\n",
       "      <th>71998</th>\n",
       "      <td>1584451631.545</td>\n",
       "    </tr>\n",
       "    <tr>\n",
       "      <th>71999</th>\n",
       "      <td>1584451631.660</td>\n",
       "    </tr>\n",
       "  </tbody>\n",
       "</table>\n",
       "<p>72000 rows × 1 columns</p>\n",
       "</div>"
      ],
      "text/plain": [
       "          robotiq_TS\n",
       "0     1584450951.447\n",
       "1     1584450951.561\n",
       "2     1584450951.672\n",
       "3     1584450951.783\n",
       "4     1584450951.897\n",
       "...              ...\n",
       "71995 1584451631.211\n",
       "71996 1584451631.322\n",
       "71997 1584451631.433\n",
       "71998 1584451631.545\n",
       "71999 1584451631.660\n",
       "\n",
       "[72000 rows x 1 columns]"
      ]
     },
     "metadata": {},
     "output_type": "display_data"
    }
   ],
   "source": [
    "robotiq_TS2 = robotiq_TS.apply(lambda x: x/1000_000_000)\n",
    "pd.options.display.float_format = '{:.3f}'.format\n",
    "display(robotiq_TS2)"
   ]
  },
  {
   "cell_type": "markdown",
   "metadata": {},
   "source": [
    "## Import The Robot Position, Velocity and Effort Data\n",
    "The data contains a lot of unnecessary information plus, the header names are wrong and need correcting. "
   ]
  },
  {
   "cell_type": "code",
   "execution_count": 9,
   "metadata": {
    "ExecuteTime": {
     "end_time": "2020-09-29T13:07:49.610769Z",
     "start_time": "2020-09-29T13:07:49.054475Z"
    },
    "scrolled": true
   },
   "outputs": [
    {
     "data": {
      "text/html": [
       "<div>\n",
       "<style scoped>\n",
       "    .dataframe tbody tr th:only-of-type {\n",
       "        vertical-align: middle;\n",
       "    }\n",
       "\n",
       "    .dataframe tbody tr th {\n",
       "        vertical-align: top;\n",
       "    }\n",
       "\n",
       "    .dataframe thead th {\n",
       "        text-align: right;\n",
       "    }\n",
       "</style>\n",
       "<table border=\"1\" class=\"dataframe\">\n",
       "  <thead>\n",
       "    <tr style=\"text-align: right;\">\n",
       "      <th></th>\n",
       "      <th>rosbagTimestamp</th>\n",
       "      <th>header</th>\n",
       "      <th>seq</th>\n",
       "      <th>stamp</th>\n",
       "      <th>secs</th>\n",
       "      <th>nsecs</th>\n",
       "      <th>frame_id</th>\n",
       "      <th>name</th>\n",
       "      <th>wrist_3_joint]</th>\n",
       "      <th>position</th>\n",
       "      <th>velocity</th>\n",
       "      <th>effort</th>\n",
       "    </tr>\n",
       "  </thead>\n",
       "  <tbody>\n",
       "    <tr>\n",
       "      <th>0</th>\n",
       "      <td>1584450951462869270</td>\n",
       "      <td>nan</td>\n",
       "      <td>1132446</td>\n",
       "      <td>nan</td>\n",
       "      <td>1584450951</td>\n",
       "      <td>462444927</td>\n",
       "      <td>''</td>\n",
       "      <td>[shoulder_pan_joint, shoulder_lift_joint, elbo...</td>\n",
       "      <td>[1.4048302173614502, -1.1717646757708948, 2.48...</td>\n",
       "      <td>[0.0, 0.0, -0.0, 0.0, 0.0, 0.0]</td>\n",
       "      <td>[-0.2838135063648224, -4.325867176055908, -1.0...</td>\n",
       "      <td>nan</td>\n",
       "    </tr>\n",
       "  </tbody>\n",
       "</table>\n",
       "</div>"
      ],
      "text/plain": [
       "       rosbagTimestamp  header      seq  stamp        secs      nsecs  \\\n",
       "0  1584450951462869270     nan  1132446    nan  1584450951  462444927   \n",
       "\n",
       "  frame_id                                               name  \\\n",
       "0       ''  [shoulder_pan_joint, shoulder_lift_joint, elbo...   \n",
       "\n",
       "                                      wrist_3_joint]  \\\n",
       "0  [1.4048302173614502, -1.1717646757708948, 2.48...   \n",
       "\n",
       "                          position  \\\n",
       "0  [0.0, 0.0, -0.0, 0.0, 0.0, 0.0]   \n",
       "\n",
       "                                            velocity  effort  \n",
       "0  [-0.2838135063648224, -4.325867176055908, -1.0...     nan  "
      ]
     },
     "metadata": {},
     "output_type": "display_data"
    }
   ],
   "source": [
    "ur_data = pd.read_csv('/home/ur10pc/Desktop/robot_data2/ur_df/ur_data.csv')\n",
    "\n",
    "display(ur_data.head(1))\n"
   ]
  },
  {
   "cell_type": "markdown",
   "metadata": {},
   "source": [
    "## Format ROS Timestamp for Robot Data\n",
    "This snippet is again, for comparing the timestamps between the robot and Robotiq data sets. "
   ]
  },
  {
   "cell_type": "code",
   "execution_count": 10,
   "metadata": {
    "ExecuteTime": {
     "end_time": "2020-09-29T13:07:57.539275Z",
     "start_time": "2020-09-29T13:07:57.496370Z"
    },
    "scrolled": false
   },
   "outputs": [
    {
     "data": {
      "text/plain": [
       "0       1584450951.463\n",
       "1       1584450951.575\n",
       "2       1584450951.687\n",
       "3       1584450951.799\n",
       "4       1584450951.911\n",
       "             ...      \n",
       "71995   1584451631.273\n",
       "71996   1584451631.385\n",
       "71997   1584451631.497\n",
       "71998   1584451631.609\n",
       "71999   1584451631.721\n",
       "Name: rosbagTimestamp, Length: 72000, dtype: float64"
      ]
     },
     "metadata": {},
     "output_type": "display_data"
    },
    {
     "data": {
      "text/html": [
       "<div>\n",
       "<style scoped>\n",
       "    .dataframe tbody tr th:only-of-type {\n",
       "        vertical-align: middle;\n",
       "    }\n",
       "\n",
       "    .dataframe tbody tr th {\n",
       "        vertical-align: top;\n",
       "    }\n",
       "\n",
       "    .dataframe thead th {\n",
       "        text-align: right;\n",
       "    }\n",
       "</style>\n",
       "<table border=\"1\" class=\"dataframe\">\n",
       "  <thead>\n",
       "    <tr style=\"text-align: right;\">\n",
       "      <th></th>\n",
       "      <th>rosbagTimestamp</th>\n",
       "      <th>robotiq_TS</th>\n",
       "    </tr>\n",
       "  </thead>\n",
       "  <tbody>\n",
       "    <tr>\n",
       "      <th>0</th>\n",
       "      <td>1584450951.463</td>\n",
       "      <td>1584450951.447</td>\n",
       "    </tr>\n",
       "    <tr>\n",
       "      <th>1</th>\n",
       "      <td>1584450951.575</td>\n",
       "      <td>1584450951.561</td>\n",
       "    </tr>\n",
       "    <tr>\n",
       "      <th>2</th>\n",
       "      <td>1584450951.687</td>\n",
       "      <td>1584450951.672</td>\n",
       "    </tr>\n",
       "    <tr>\n",
       "      <th>3</th>\n",
       "      <td>1584450951.799</td>\n",
       "      <td>1584450951.783</td>\n",
       "    </tr>\n",
       "    <tr>\n",
       "      <th>4</th>\n",
       "      <td>1584450951.911</td>\n",
       "      <td>1584450951.897</td>\n",
       "    </tr>\n",
       "  </tbody>\n",
       "</table>\n",
       "</div>"
      ],
      "text/plain": [
       "   rosbagTimestamp     robotiq_TS\n",
       "0   1584450951.463 1584450951.447\n",
       "1   1584450951.575 1584450951.561\n",
       "2   1584450951.687 1584450951.672\n",
       "3   1584450951.799 1584450951.783\n",
       "4   1584450951.911 1584450951.897"
      ]
     },
     "metadata": {},
     "output_type": "display_data"
    }
   ],
   "source": [
    "ur_data_timestamp = ur_data['rosbagTimestamp']\n",
    "ur_data_timestamp2 = ur_data_timestamp.apply(lambda x: x/1000_000_000)\n",
    "pd.options.display.float_format = '{:.3f}'.format\n",
    "\n",
    "display(ur_data_timestamp2)\n",
    "bob = pd.concat([ur_data_timestamp2, robotiq_TS2], axis=1)\n",
    "display(bob.head(5))"
   ]
  },
  {
   "cell_type": "markdown",
   "metadata": {},
   "source": [
    "## Parse and Expand The Robot Position Data\n",
    "The robot position is lumped into a single column as a 6d vector. This snippet splits the vector into components-  'joint_0','joint_1','joint_2','joint_3', 'joint_4' and 'joint_5'.\n",
    "In oder to split the vector, it needed converting into a string which then left unwanted commas which needed removing. "
   ]
  },
  {
   "cell_type": "code",
   "execution_count": 11,
   "metadata": {
    "ExecuteTime": {
     "end_time": "2020-09-29T13:08:38.653112Z",
     "start_time": "2020-09-29T13:08:37.966985Z"
    },
    "scrolled": false
   },
   "outputs": [
    {
     "data": {
      "text/html": [
       "<div>\n",
       "<style scoped>\n",
       "    .dataframe tbody tr th:only-of-type {\n",
       "        vertical-align: middle;\n",
       "    }\n",
       "\n",
       "    .dataframe tbody tr th {\n",
       "        vertical-align: top;\n",
       "    }\n",
       "\n",
       "    .dataframe thead th {\n",
       "        text-align: right;\n",
       "    }\n",
       "</style>\n",
       "<table border=\"1\" class=\"dataframe\">\n",
       "  <thead>\n",
       "    <tr style=\"text-align: right;\">\n",
       "      <th></th>\n",
       "      <th>joint_0</th>\n",
       "      <th>joint_1</th>\n",
       "      <th>joint_2</th>\n",
       "      <th>joint_3</th>\n",
       "      <th>joint_4</th>\n",
       "      <th>joint_5</th>\n",
       "    </tr>\n",
       "  </thead>\n",
       "  <tbody>\n",
       "    <tr>\n",
       "      <th>0</th>\n",
       "      <td>1.405</td>\n",
       "      <td>-1.172</td>\n",
       "      <td>2.483</td>\n",
       "      <td>-2.863</td>\n",
       "      <td>-1.567</td>\n",
       "      <td>2.721</td>\n",
       "    </tr>\n",
       "    <tr>\n",
       "      <th>1</th>\n",
       "      <td>1.405</td>\n",
       "      <td>-1.172</td>\n",
       "      <td>2.483</td>\n",
       "      <td>-2.863</td>\n",
       "      <td>-1.567</td>\n",
       "      <td>2.721</td>\n",
       "    </tr>\n",
       "    <tr>\n",
       "      <th>2</th>\n",
       "      <td>1.405</td>\n",
       "      <td>-1.172</td>\n",
       "      <td>2.483</td>\n",
       "      <td>-2.863</td>\n",
       "      <td>-1.567</td>\n",
       "      <td>2.721</td>\n",
       "    </tr>\n",
       "    <tr>\n",
       "      <th>3</th>\n",
       "      <td>1.405</td>\n",
       "      <td>-1.172</td>\n",
       "      <td>2.483</td>\n",
       "      <td>-2.863</td>\n",
       "      <td>-1.567</td>\n",
       "      <td>2.721</td>\n",
       "    </tr>\n",
       "    <tr>\n",
       "      <th>4</th>\n",
       "      <td>1.405</td>\n",
       "      <td>-1.172</td>\n",
       "      <td>2.483</td>\n",
       "      <td>-2.863</td>\n",
       "      <td>-1.567</td>\n",
       "      <td>2.721</td>\n",
       "    </tr>\n",
       "  </tbody>\n",
       "</table>\n",
       "</div>"
      ],
      "text/plain": [
       "   joint_0  joint_1  joint_2  joint_3  joint_4  joint_5\n",
       "0    1.405   -1.172    2.483   -2.863   -1.567    2.721\n",
       "1    1.405   -1.172    2.483   -2.863   -1.567    2.721\n",
       "2    1.405   -1.172    2.483   -2.863   -1.567    2.721\n",
       "3    1.405   -1.172    2.483   -2.863   -1.567    2.721\n",
       "4    1.405   -1.172    2.483   -2.863   -1.567    2.721"
      ]
     },
     "metadata": {},
     "output_type": "display_data"
    }
   ],
   "source": [
    "ur_data2 = ur_data.iloc[:,8]\n",
    "ur_data_timestamp = ur_data.iloc[:,0]\n",
    "ur_data_timestamp = pd.DataFrame(ur_data_timestamp)\n",
    "#display(ur_data_timestamp)\n",
    "ur_data_joints_pos = pd.DataFrame(ur_data2.str.split().values.tolist())\n",
    "\n",
    "ur_data_joints_pos.columns = ['joint_0','joint_1','joint_2','joint_3', 'joint_4','joint_5']\n",
    "ur_data_joints_pos['joint_0'] =  ur_data_joints_pos['joint_0'].apply(lambda x: x.replace('[','').replace(',','')).astype(float)\n",
    "ur_data_joints_pos['joint_1'] =  ur_data_joints_pos['joint_1'].apply(lambda x: x.replace(',','')).astype(float)\n",
    "ur_data_joints_pos['joint_2'] =  ur_data_joints_pos['joint_2'].apply(lambda x: x.replace(',','')).astype(float)\n",
    "ur_data_joints_pos['joint_3'] =  ur_data_joints_pos['joint_3'].apply(lambda x: x.replace(',','')).astype(float)\n",
    "ur_data_joints_pos['joint_4'] =  ur_data_joints_pos['joint_4'].apply(lambda x: x.replace(',','')).astype(float)\n",
    "ur_data_joints_pos['joint_5'] =  ur_data_joints_pos['joint_5'].apply(lambda x: x.replace(',','').replace(']','')).astype(float)\n",
    "\n",
    "\n",
    "display(ur_data_joints_pos.head(5))"
   ]
  },
  {
   "cell_type": "markdown",
   "metadata": {},
   "source": [
    "## Parse and Expand the Robot Joint Effort Column\n",
    "As with the joint position above, the joint effort was lumped into a single column as a 6d vector, which required the same treatment. "
   ]
  },
  {
   "cell_type": "code",
   "execution_count": 12,
   "metadata": {
    "ExecuteTime": {
     "end_time": "2020-09-29T13:08:42.617407Z",
     "start_time": "2020-09-29T13:08:41.941652Z"
    },
    "scrolled": true
   },
   "outputs": [
    {
     "data": {
      "text/html": [
       "<div>\n",
       "<style scoped>\n",
       "    .dataframe tbody tr th:only-of-type {\n",
       "        vertical-align: middle;\n",
       "    }\n",
       "\n",
       "    .dataframe tbody tr th {\n",
       "        vertical-align: top;\n",
       "    }\n",
       "\n",
       "    .dataframe thead th {\n",
       "        text-align: right;\n",
       "    }\n",
       "</style>\n",
       "<table border=\"1\" class=\"dataframe\">\n",
       "  <thead>\n",
       "    <tr style=\"text-align: right;\">\n",
       "      <th></th>\n",
       "      <th>effot_joint_0</th>\n",
       "      <th>effot_joint_1</th>\n",
       "      <th>effot_joint_2</th>\n",
       "      <th>effot_joint_3</th>\n",
       "      <th>effot_joint_4</th>\n",
       "      <th>effot_joint_5</th>\n",
       "    </tr>\n",
       "  </thead>\n",
       "  <tbody>\n",
       "    <tr>\n",
       "      <th>0</th>\n",
       "      <td>-0.284</td>\n",
       "      <td>-4.326</td>\n",
       "      <td>-1.018</td>\n",
       "      <td>-0.435</td>\n",
       "      <td>0.123</td>\n",
       "      <td>0.130</td>\n",
       "    </tr>\n",
       "    <tr>\n",
       "      <th>1</th>\n",
       "      <td>-0.311</td>\n",
       "      <td>-4.193</td>\n",
       "      <td>-1.020</td>\n",
       "      <td>-0.440</td>\n",
       "      <td>0.148</td>\n",
       "      <td>0.110</td>\n",
       "    </tr>\n",
       "    <tr>\n",
       "      <th>2</th>\n",
       "      <td>-0.302</td>\n",
       "      <td>-4.175</td>\n",
       "      <td>-1.011</td>\n",
       "      <td>-0.428</td>\n",
       "      <td>0.112</td>\n",
       "      <td>0.103</td>\n",
       "    </tr>\n",
       "    <tr>\n",
       "      <th>3</th>\n",
       "      <td>-0.320</td>\n",
       "      <td>-4.230</td>\n",
       "      <td>-1.027</td>\n",
       "      <td>-0.433</td>\n",
       "      <td>0.114</td>\n",
       "      <td>0.108</td>\n",
       "    </tr>\n",
       "    <tr>\n",
       "      <th>4</th>\n",
       "      <td>-0.293</td>\n",
       "      <td>-4.184</td>\n",
       "      <td>-1.036</td>\n",
       "      <td>-0.424</td>\n",
       "      <td>0.139</td>\n",
       "      <td>0.101</td>\n",
       "    </tr>\n",
       "  </tbody>\n",
       "</table>\n",
       "</div>"
      ],
      "text/plain": [
       "   effot_joint_0  effot_joint_1  effot_joint_2  effot_joint_3  effot_joint_4  \\\n",
       "0         -0.284         -4.326         -1.018         -0.435          0.123   \n",
       "1         -0.311         -4.193         -1.020         -0.440          0.148   \n",
       "2         -0.302         -4.175         -1.011         -0.428          0.112   \n",
       "3         -0.320         -4.230         -1.027         -0.433          0.114   \n",
       "4         -0.293         -4.184         -1.036         -0.424          0.139   \n",
       "\n",
       "   effot_joint_5  \n",
       "0          0.130  \n",
       "1          0.110  \n",
       "2          0.103  \n",
       "3          0.108  \n",
       "4          0.101  "
      ]
     },
     "metadata": {},
     "output_type": "display_data"
    }
   ],
   "source": [
    "\n",
    "ur_data_joint_effort = ur_data.iloc[:,10]\n",
    "ur_data_joint_effort = pd.DataFrame(ur_data_joint_effort.str.split().values.tolist())\n",
    "\n",
    "ur_data_joint_effort.columns = ['effot_joint_0','effot_joint_1','effot_joint_2','effot_joint_3', 'effot_joint_4','effot_joint_5']\n",
    "ur_data_joint_effort['effot_joint_0'] =  ur_data_joint_effort['effot_joint_0'].apply(lambda x: x.replace('[','').replace(',','')).astype(float)\n",
    "ur_data_joint_effort['effot_joint_1'] =  ur_data_joint_effort['effot_joint_1'].apply(lambda x: x.replace(',','')).astype(float)\n",
    "ur_data_joint_effort['effot_joint_2'] =  ur_data_joint_effort['effot_joint_2'].apply(lambda x: x.replace(',','')).astype(float)\n",
    "ur_data_joint_effort['effot_joint_3'] =  ur_data_joint_effort['effot_joint_3'].apply(lambda x: x.replace(',','')).astype(float)\n",
    "ur_data_joint_effort['effot_joint_4'] =  ur_data_joint_effort['effot_joint_4'].apply(lambda x: x.replace(',','')).astype(float)\n",
    "ur_data_joint_effort['effot_joint_5'] =  ur_data_joint_effort['effot_joint_5'].apply(lambda x: x.replace(',','').replace(']','')).astype(float)\n",
    "\n",
    "\n",
    "display(ur_data_joint_effort.head(5))"
   ]
  },
  {
   "cell_type": "markdown",
   "metadata": {},
   "source": [
    "## Parse and Expand The Robot Joint Velocity Vector. "
   ]
  },
  {
   "cell_type": "code",
   "execution_count": 13,
   "metadata": {
    "ExecuteTime": {
     "end_time": "2020-09-29T13:08:48.021244Z",
     "start_time": "2020-09-29T13:08:47.357253Z"
    },
    "scrolled": true
   },
   "outputs": [
    {
     "data": {
      "text/html": [
       "<div>\n",
       "<style scoped>\n",
       "    .dataframe tbody tr th:only-of-type {\n",
       "        vertical-align: middle;\n",
       "    }\n",
       "\n",
       "    .dataframe tbody tr th {\n",
       "        vertical-align: top;\n",
       "    }\n",
       "\n",
       "    .dataframe thead th {\n",
       "        text-align: right;\n",
       "    }\n",
       "</style>\n",
       "<table border=\"1\" class=\"dataframe\">\n",
       "  <thead>\n",
       "    <tr style=\"text-align: right;\">\n",
       "      <th></th>\n",
       "      <th>vel_joint_0</th>\n",
       "      <th>vel_joint_1</th>\n",
       "      <th>vel_joint_2</th>\n",
       "      <th>vel_joint_3</th>\n",
       "      <th>vel_joint_4</th>\n",
       "      <th>vel_joint_5</th>\n",
       "    </tr>\n",
       "  </thead>\n",
       "  <tbody>\n",
       "    <tr>\n",
       "      <th>0</th>\n",
       "      <td>0.000</td>\n",
       "      <td>0.000</td>\n",
       "      <td>-0.000</td>\n",
       "      <td>0.000</td>\n",
       "      <td>0.000</td>\n",
       "      <td>0.000</td>\n",
       "    </tr>\n",
       "    <tr>\n",
       "      <th>1</th>\n",
       "      <td>0.000</td>\n",
       "      <td>0.000</td>\n",
       "      <td>-0.000</td>\n",
       "      <td>0.000</td>\n",
       "      <td>0.000</td>\n",
       "      <td>0.000</td>\n",
       "    </tr>\n",
       "    <tr>\n",
       "      <th>2</th>\n",
       "      <td>0.000</td>\n",
       "      <td>0.000</td>\n",
       "      <td>-0.000</td>\n",
       "      <td>0.000</td>\n",
       "      <td>0.000</td>\n",
       "      <td>0.000</td>\n",
       "    </tr>\n",
       "    <tr>\n",
       "      <th>3</th>\n",
       "      <td>0.000</td>\n",
       "      <td>0.000</td>\n",
       "      <td>-0.000</td>\n",
       "      <td>0.000</td>\n",
       "      <td>0.000</td>\n",
       "      <td>0.000</td>\n",
       "    </tr>\n",
       "    <tr>\n",
       "      <th>4</th>\n",
       "      <td>0.000</td>\n",
       "      <td>0.000</td>\n",
       "      <td>-0.000</td>\n",
       "      <td>0.000</td>\n",
       "      <td>0.000</td>\n",
       "      <td>0.000</td>\n",
       "    </tr>\n",
       "  </tbody>\n",
       "</table>\n",
       "</div>"
      ],
      "text/plain": [
       "   vel_joint_0  vel_joint_1  vel_joint_2  vel_joint_3  vel_joint_4  \\\n",
       "0        0.000        0.000       -0.000        0.000        0.000   \n",
       "1        0.000        0.000       -0.000        0.000        0.000   \n",
       "2        0.000        0.000       -0.000        0.000        0.000   \n",
       "3        0.000        0.000       -0.000        0.000        0.000   \n",
       "4        0.000        0.000       -0.000        0.000        0.000   \n",
       "\n",
       "   vel_joint_5  \n",
       "0        0.000  \n",
       "1        0.000  \n",
       "2        0.000  \n",
       "3        0.000  \n",
       "4        0.000  "
      ]
     },
     "metadata": {},
     "output_type": "display_data"
    }
   ],
   "source": [
    "ur_data_velocity0 = ur_data.iloc[:,9]\n",
    "\n",
    "ur_data_velocity = pd.DataFrame(ur_data_velocity0.str.split().values.tolist())\n",
    "ur_data_velocity.columns = ['vel_joint_0','vel_joint_1','vel_joint_2','vel_joint_3', 'vel_joint_4','vel_joint_5']\n",
    "ur_data_velocity['vel_joint_0'] =  ur_data_velocity['vel_joint_0'].apply(lambda x: x.replace('[','').replace(',','')).astype(float)\n",
    "ur_data_velocity['vel_joint_1'] =  ur_data_velocity['vel_joint_1'].apply(lambda x: x.replace(',','')).astype(float)\n",
    "ur_data_velocity['vel_joint_2'] =  ur_data_velocity['vel_joint_2'].apply(lambda x: x.replace(',','')).astype(float)\n",
    "ur_data_velocity['vel_joint_3'] =  ur_data_velocity['vel_joint_3'].apply(lambda x: x.replace(',','')).astype(float)\n",
    "ur_data_velocity['vel_joint_4'] =  ur_data_velocity['vel_joint_4'].apply(lambda x: x.replace(',','')).astype(float)\n",
    "ur_data_velocity['vel_joint_5'] =  ur_data_velocity['vel_joint_5'].apply(lambda x: x.replace(',','').replace(']','')).astype(float)\n",
    "\n",
    "display(ur_data_velocity.head())"
   ]
  },
  {
   "cell_type": "code",
   "execution_count": null,
   "metadata": {
    "scrolled": false
   },
   "outputs": [],
   "source": []
  },
  {
   "cell_type": "markdown",
   "metadata": {},
   "source": [
    "## Concatenate Features\n",
    "After parsing and reconstructing the robot position, effort and velocity features, they can now be combined along with each other and with the force and torque dataframes. "
   ]
  },
  {
   "cell_type": "code",
   "execution_count": 14,
   "metadata": {
    "ExecuteTime": {
     "end_time": "2020-09-29T13:09:26.550310Z",
     "start_time": "2020-09-29T13:09:26.532740Z"
    },
    "scrolled": false
   },
   "outputs": [
    {
     "data": {
      "text/html": [
       "<div>\n",
       "<style scoped>\n",
       "    .dataframe tbody tr th:only-of-type {\n",
       "        vertical-align: middle;\n",
       "    }\n",
       "\n",
       "    .dataframe tbody tr th {\n",
       "        vertical-align: top;\n",
       "    }\n",
       "\n",
       "    .dataframe thead th {\n",
       "        text-align: right;\n",
       "    }\n",
       "</style>\n",
       "<table border=\"1\" class=\"dataframe\">\n",
       "  <thead>\n",
       "    <tr style=\"text-align: right;\">\n",
       "      <th></th>\n",
       "      <th>Force Vec</th>\n",
       "      <th>joint_0</th>\n",
       "      <th>joint_1</th>\n",
       "      <th>joint_2</th>\n",
       "      <th>joint_3</th>\n",
       "      <th>joint_4</th>\n",
       "      <th>joint_5</th>\n",
       "    </tr>\n",
       "  </thead>\n",
       "  <tbody>\n",
       "    <tr>\n",
       "      <th>0</th>\n",
       "      <td>0.030</td>\n",
       "      <td>1.405</td>\n",
       "      <td>-1.172</td>\n",
       "      <td>2.483</td>\n",
       "      <td>-2.863</td>\n",
       "      <td>-1.567</td>\n",
       "      <td>2.721</td>\n",
       "    </tr>\n",
       "    <tr>\n",
       "      <th>1</th>\n",
       "      <td>0.185</td>\n",
       "      <td>1.405</td>\n",
       "      <td>-1.172</td>\n",
       "      <td>2.483</td>\n",
       "      <td>-2.863</td>\n",
       "      <td>-1.567</td>\n",
       "      <td>2.721</td>\n",
       "    </tr>\n",
       "    <tr>\n",
       "      <th>2</th>\n",
       "      <td>0.091</td>\n",
       "      <td>1.405</td>\n",
       "      <td>-1.172</td>\n",
       "      <td>2.483</td>\n",
       "      <td>-2.863</td>\n",
       "      <td>-1.567</td>\n",
       "      <td>2.721</td>\n",
       "    </tr>\n",
       "    <tr>\n",
       "      <th>3</th>\n",
       "      <td>0.101</td>\n",
       "      <td>1.405</td>\n",
       "      <td>-1.172</td>\n",
       "      <td>2.483</td>\n",
       "      <td>-2.863</td>\n",
       "      <td>-1.567</td>\n",
       "      <td>2.721</td>\n",
       "    </tr>\n",
       "    <tr>\n",
       "      <th>4</th>\n",
       "      <td>0.055</td>\n",
       "      <td>1.405</td>\n",
       "      <td>-1.172</td>\n",
       "      <td>2.483</td>\n",
       "      <td>-2.863</td>\n",
       "      <td>-1.567</td>\n",
       "      <td>2.721</td>\n",
       "    </tr>\n",
       "  </tbody>\n",
       "</table>\n",
       "</div>"
      ],
      "text/plain": [
       "   Force Vec  joint_0  joint_1  joint_2  joint_3  joint_4  joint_5\n",
       "0      0.030    1.405   -1.172    2.483   -2.863   -1.567    2.721\n",
       "1      0.185    1.405   -1.172    2.483   -2.863   -1.567    2.721\n",
       "2      0.091    1.405   -1.172    2.483   -2.863   -1.567    2.721\n",
       "3      0.101    1.405   -1.172    2.483   -2.863   -1.567    2.721\n",
       "4      0.055    1.405   -1.172    2.483   -2.863   -1.567    2.721"
      ]
     },
     "metadata": {},
     "output_type": "display_data"
    }
   ],
   "source": [
    "ur_joint_data = pd.concat([force_vector, ur_data_joints_pos], axis=1)\n",
    "\n",
    "#print(df.iloc[:, 1].round(-1))\n",
    "pd.options.display.float_format = '{:.3f}'.format\n",
    "#pd.reset_option('^display.', silent=True)\n",
    "#display(robotiq_data)\n",
    "\n",
    "display(ur_joint_data.head(5))"
   ]
  },
  {
   "cell_type": "markdown",
   "metadata": {},
   "source": [
    "## Correlation Algorithm and Heat Map"
   ]
  },
  {
   "cell_type": "code",
   "execution_count": 15,
   "metadata": {
    "ExecuteTime": {
     "end_time": "2020-09-29T13:10:00.448412Z",
     "start_time": "2020-09-29T13:09:59.682267Z"
    },
    "scrolled": false
   },
   "outputs": [
    {
     "data": {
      "image/png": "[encoded data removed]",
      "text/plain": [
       "<Figure size 1008x720 with 2 Axes>"
      ]
     },
     "metadata": {
      "needs_background": "light"
     },
     "output_type": "display_data"
    }
   ],
   "source": [
    "import matplotlib\n",
    "import matplotlib.pyplot as plt\n",
    "import seaborn as sns\n",
    "import statsmodels.api as sm\n",
    "%matplotlib inline\n",
    "\n",
    "plt.figure(figsize=(14,10))\n",
    "x = ur_joint_data \n",
    "\n",
    "cor = x.corr()\n",
    "sns.heatmap(cor, annot=True, cmap=plt.cm.Reds)\n",
    "\n",
    "plt.suptitle('Corrolation Heat Map', fontsize=20)\n",
    "\n",
    "plt.show()"
   ]
  },
  {
   "cell_type": "markdown",
   "metadata": {},
   "source": [
    "## Remove Unnecessary Velocity Features\n",
    "Joint 2 appears to correlate largely with joints 1 and 3 for position and velocity, so these features will be removed to simplify the model. Torque correlates highly with force, therefore, torque will also be removed. "
   ]
  },
  {
   "cell_type": "code",
   "execution_count": 16,
   "metadata": {
    "ExecuteTime": {
     "end_time": "2020-09-29T13:10:17.839656Z",
     "start_time": "2020-09-29T13:10:17.822007Z"
    },
    "scrolled": false
   },
   "outputs": [
    {
     "data": {
      "text/html": [
       "<div>\n",
       "<style scoped>\n",
       "    .dataframe tbody tr th:only-of-type {\n",
       "        vertical-align: middle;\n",
       "    }\n",
       "\n",
       "    .dataframe tbody tr th {\n",
       "        vertical-align: top;\n",
       "    }\n",
       "\n",
       "    .dataframe thead th {\n",
       "        text-align: right;\n",
       "    }\n",
       "</style>\n",
       "<table border=\"1\" class=\"dataframe\">\n",
       "  <thead>\n",
       "    <tr style=\"text-align: right;\">\n",
       "      <th></th>\n",
       "      <th>vel_joint_0</th>\n",
       "      <th>vel_joint_2</th>\n",
       "      <th>vel_joint_4</th>\n",
       "      <th>vel_joint_5</th>\n",
       "    </tr>\n",
       "  </thead>\n",
       "  <tbody>\n",
       "    <tr>\n",
       "      <th>0</th>\n",
       "      <td>0.000</td>\n",
       "      <td>-0.000</td>\n",
       "      <td>0.000</td>\n",
       "      <td>0.000</td>\n",
       "    </tr>\n",
       "    <tr>\n",
       "      <th>1</th>\n",
       "      <td>0.000</td>\n",
       "      <td>-0.000</td>\n",
       "      <td>0.000</td>\n",
       "      <td>0.000</td>\n",
       "    </tr>\n",
       "    <tr>\n",
       "      <th>2</th>\n",
       "      <td>0.000</td>\n",
       "      <td>-0.000</td>\n",
       "      <td>0.000</td>\n",
       "      <td>0.000</td>\n",
       "    </tr>\n",
       "    <tr>\n",
       "      <th>3</th>\n",
       "      <td>0.000</td>\n",
       "      <td>-0.000</td>\n",
       "      <td>0.000</td>\n",
       "      <td>0.000</td>\n",
       "    </tr>\n",
       "    <tr>\n",
       "      <th>4</th>\n",
       "      <td>0.000</td>\n",
       "      <td>-0.000</td>\n",
       "      <td>0.000</td>\n",
       "      <td>0.000</td>\n",
       "    </tr>\n",
       "  </tbody>\n",
       "</table>\n",
       "</div>"
      ],
      "text/plain": [
       "   vel_joint_0  vel_joint_2  vel_joint_4  vel_joint_5\n",
       "0        0.000       -0.000        0.000        0.000\n",
       "1        0.000       -0.000        0.000        0.000\n",
       "2        0.000       -0.000        0.000        0.000\n",
       "3        0.000       -0.000        0.000        0.000\n",
       "4        0.000       -0.000        0.000        0.000"
      ]
     },
     "metadata": {},
     "output_type": "display_data"
    }
   ],
   "source": [
    "ur_data_velocity = ur_data_velocity.drop('vel_joint_1', 1)\n",
    "ur_data_velocity = ur_data_velocity.drop('vel_joint_3', 1)\n",
    "\n",
    "\n",
    "display(ur_data_velocity.head(5))"
   ]
  },
  {
   "cell_type": "markdown",
   "metadata": {},
   "source": [
    "## Remove Unnecessary Position Features "
   ]
  },
  {
   "cell_type": "code",
   "execution_count": 17,
   "metadata": {
    "ExecuteTime": {
     "end_time": "2020-09-29T13:10:40.297103Z",
     "start_time": "2020-09-29T13:10:40.281213Z"
    },
    "scrolled": false
   },
   "outputs": [
    {
     "data": {
      "text/html": [
       "<div>\n",
       "<style scoped>\n",
       "    .dataframe tbody tr th:only-of-type {\n",
       "        vertical-align: middle;\n",
       "    }\n",
       "\n",
       "    .dataframe tbody tr th {\n",
       "        vertical-align: top;\n",
       "    }\n",
       "\n",
       "    .dataframe thead th {\n",
       "        text-align: right;\n",
       "    }\n",
       "</style>\n",
       "<table border=\"1\" class=\"dataframe\">\n",
       "  <thead>\n",
       "    <tr style=\"text-align: right;\">\n",
       "      <th></th>\n",
       "      <th>joint_0</th>\n",
       "      <th>joint_2</th>\n",
       "      <th>joint_4</th>\n",
       "      <th>joint_5</th>\n",
       "    </tr>\n",
       "  </thead>\n",
       "  <tbody>\n",
       "    <tr>\n",
       "      <th>0</th>\n",
       "      <td>1.405</td>\n",
       "      <td>2.483</td>\n",
       "      <td>-1.567</td>\n",
       "      <td>2.721</td>\n",
       "    </tr>\n",
       "    <tr>\n",
       "      <th>1</th>\n",
       "      <td>1.405</td>\n",
       "      <td>2.483</td>\n",
       "      <td>-1.567</td>\n",
       "      <td>2.721</td>\n",
       "    </tr>\n",
       "    <tr>\n",
       "      <th>2</th>\n",
       "      <td>1.405</td>\n",
       "      <td>2.483</td>\n",
       "      <td>-1.567</td>\n",
       "      <td>2.721</td>\n",
       "    </tr>\n",
       "    <tr>\n",
       "      <th>3</th>\n",
       "      <td>1.405</td>\n",
       "      <td>2.483</td>\n",
       "      <td>-1.567</td>\n",
       "      <td>2.721</td>\n",
       "    </tr>\n",
       "    <tr>\n",
       "      <th>4</th>\n",
       "      <td>1.405</td>\n",
       "      <td>2.483</td>\n",
       "      <td>-1.567</td>\n",
       "      <td>2.721</td>\n",
       "    </tr>\n",
       "    <tr>\n",
       "      <th>...</th>\n",
       "      <td>...</td>\n",
       "      <td>...</td>\n",
       "      <td>...</td>\n",
       "      <td>...</td>\n",
       "    </tr>\n",
       "    <tr>\n",
       "      <th>71995</th>\n",
       "      <td>2.519</td>\n",
       "      <td>1.283</td>\n",
       "      <td>-1.570</td>\n",
       "      <td>2.198</td>\n",
       "    </tr>\n",
       "    <tr>\n",
       "      <th>71996</th>\n",
       "      <td>2.507</td>\n",
       "      <td>1.305</td>\n",
       "      <td>-1.570</td>\n",
       "      <td>2.196</td>\n",
       "    </tr>\n",
       "    <tr>\n",
       "      <th>71997</th>\n",
       "      <td>2.495</td>\n",
       "      <td>1.327</td>\n",
       "      <td>-1.569</td>\n",
       "      <td>2.192</td>\n",
       "    </tr>\n",
       "    <tr>\n",
       "      <th>71998</th>\n",
       "      <td>2.485</td>\n",
       "      <td>1.350</td>\n",
       "      <td>-1.569</td>\n",
       "      <td>2.187</td>\n",
       "    </tr>\n",
       "    <tr>\n",
       "      <th>71999</th>\n",
       "      <td>2.475</td>\n",
       "      <td>1.373</td>\n",
       "      <td>-1.569</td>\n",
       "      <td>2.183</td>\n",
       "    </tr>\n",
       "  </tbody>\n",
       "</table>\n",
       "<p>72000 rows × 4 columns</p>\n",
       "</div>"
      ],
      "text/plain": [
       "       joint_0  joint_2  joint_4  joint_5\n",
       "0        1.405    2.483   -1.567    2.721\n",
       "1        1.405    2.483   -1.567    2.721\n",
       "2        1.405    2.483   -1.567    2.721\n",
       "3        1.405    2.483   -1.567    2.721\n",
       "4        1.405    2.483   -1.567    2.721\n",
       "...        ...      ...      ...      ...\n",
       "71995    2.519    1.283   -1.570    2.198\n",
       "71996    2.507    1.305   -1.570    2.196\n",
       "71997    2.495    1.327   -1.569    2.192\n",
       "71998    2.485    1.350   -1.569    2.187\n",
       "71999    2.475    1.373   -1.569    2.183\n",
       "\n",
       "[72000 rows x 4 columns]"
      ]
     },
     "metadata": {},
     "output_type": "display_data"
    }
   ],
   "source": [
    "ur_data_joints_pos = ur_data_joints_pos.astype(np.float64)\n",
    "ur_data_joints_pos = ur_data_joints_pos.drop('joint_1', 1)\n",
    "ur_data_joints_pos = ur_data_joints_pos.drop('joint_3', 1)\n",
    "\n",
    "display(ur_data_joints_pos)"
   ]
  },
  {
   "cell_type": "markdown",
   "metadata": {},
   "source": [
    "## Concatenate Selected Features"
   ]
  },
  {
   "cell_type": "code",
   "execution_count": 18,
   "metadata": {
    "ExecuteTime": {
     "end_time": "2020-09-29T13:16:36.258300Z",
     "start_time": "2020-09-29T13:16:36.244405Z"
    },
    "scrolled": false
   },
   "outputs": [
    {
     "data": {
      "text/html": [
       "<div>\n",
       "<style scoped>\n",
       "    .dataframe tbody tr th:only-of-type {\n",
       "        vertical-align: middle;\n",
       "    }\n",
       "\n",
       "    .dataframe tbody tr th {\n",
       "        vertical-align: top;\n",
       "    }\n",
       "\n",
       "    .dataframe thead th {\n",
       "        text-align: right;\n",
       "    }\n",
       "</style>\n",
       "<table border=\"1\" class=\"dataframe\">\n",
       "  <thead>\n",
       "    <tr style=\"text-align: right;\">\n",
       "      <th></th>\n",
       "      <th>Force Vec</th>\n",
       "      <th>joint_0</th>\n",
       "      <th>joint_2</th>\n",
       "      <th>joint_4</th>\n",
       "      <th>joint_5</th>\n",
       "    </tr>\n",
       "  </thead>\n",
       "  <tbody>\n",
       "    <tr>\n",
       "      <th>0</th>\n",
       "      <td>0.030</td>\n",
       "      <td>1.405</td>\n",
       "      <td>2.483</td>\n",
       "      <td>-1.567</td>\n",
       "      <td>2.721</td>\n",
       "    </tr>\n",
       "    <tr>\n",
       "      <th>1</th>\n",
       "      <td>0.185</td>\n",
       "      <td>1.405</td>\n",
       "      <td>2.483</td>\n",
       "      <td>-1.567</td>\n",
       "      <td>2.721</td>\n",
       "    </tr>\n",
       "    <tr>\n",
       "      <th>2</th>\n",
       "      <td>0.091</td>\n",
       "      <td>1.405</td>\n",
       "      <td>2.483</td>\n",
       "      <td>-1.567</td>\n",
       "      <td>2.721</td>\n",
       "    </tr>\n",
       "    <tr>\n",
       "      <th>3</th>\n",
       "      <td>0.101</td>\n",
       "      <td>1.405</td>\n",
       "      <td>2.483</td>\n",
       "      <td>-1.567</td>\n",
       "      <td>2.721</td>\n",
       "    </tr>\n",
       "    <tr>\n",
       "      <th>4</th>\n",
       "      <td>0.055</td>\n",
       "      <td>1.405</td>\n",
       "      <td>2.483</td>\n",
       "      <td>-1.567</td>\n",
       "      <td>2.721</td>\n",
       "    </tr>\n",
       "  </tbody>\n",
       "</table>\n",
       "</div>"
      ],
      "text/plain": [
       "   Force Vec  joint_0  joint_2  joint_4  joint_5\n",
       "0      0.030    1.405    2.483   -1.567    2.721\n",
       "1      0.185    1.405    2.483   -1.567    2.721\n",
       "2      0.091    1.405    2.483   -1.567    2.721\n",
       "3      0.101    1.405    2.483   -1.567    2.721\n",
       "4      0.055    1.405    2.483   -1.567    2.721"
      ]
     },
     "metadata": {},
     "output_type": "display_data"
    }
   ],
   "source": [
    "ur_joint_data = pd.concat([force_vector, ur_data_joints_pos], axis=1)\n",
    "\n",
    "#print(df.iloc[:, 1].round(-1))\n",
    "pd.options.display.float_format = '{:.3f}'.format\n",
    "#pd.reset_option('^display.', silent=True)\n",
    "#display(robotiq_data)\n",
    "\n",
    "display(ur_joint_data.head(5))"
   ]
  },
  {
   "cell_type": "markdown",
   "metadata": {},
   "source": [
    "## Data Shuffling\n",
    "Shuffling the data is important because it removes correlations in the data series. Correlations occur in time series data because each data point is very similar to the last few data points. When feeding your data to a learning algorithm, if you do not shuffle your data, the model will become bias to the last batch of data which is highly correlated and forget earlier parameters set using earlier data."
   ]
  },
  {
   "cell_type": "raw",
   "metadata": {
    "scrolled": false
   },
   "source": [
    "shuffle0 = ur_joint_data.iloc[np.random.permutation(len(ur_joint_data))]\n",
    "shuffle = shuffle0.reset_index(drop=True)\n",
    "display(shuffle.head())\n",
    "print(np.shape(shuffle))"
   ]
  },
  {
   "cell_type": "markdown",
   "metadata": {},
   "source": [
    "## PolynomialFeatures - If Needed Later\n",
    "When there are known nonlinearities hiding in the data which have an effect on the output, adding polynomial features can help the model learn these nonlinearities which give more accurate results."
   ]
  },
  {
   "cell_type": "raw",
   "metadata": {
    "scrolled": false
   },
   "source": [
    "from sklearn.preprocessing import PolynomialFeatures\n",
    "x = shuffle.drop('Force Vec',axis=1)\n",
    "poly = PolynomialFeatures(degree=2, interaction_only=True)\n",
    "polynomials = pd.DataFrame(poly.fit_transform(x))\n",
    "display(polynomials.head())"
   ]
  },
  {
   "cell_type": "markdown",
   "metadata": {},
   "source": [
    "## Code Used To Generate Synthetic Data. This is Unlikely To Be Needed"
   ]
  },
  {
   "cell_type": "raw",
   "metadata": {
    "scrolled": false
   },
   "source": [
    "\n",
    "data = shuffle\n",
    "# Set mean and variance of normal distribution\n",
    "mu, sigma = 0, 1 \n",
    "# Build a series with n datapoints sampled from the normal distribution. \n",
    "noise = np.random.normal(mu, sigma, [1000,1])\n",
    "mu, sigma = 0, 2\n",
    "noise2 = np.random.normal(mu, sigma, [1000,1])\n",
    "mu, sigma = 0, 3\n",
    "noise3 = np.random.normal(mu, sigma, [1000,1])\n",
    "\n",
    "# Added noise to data\n",
    "noisy_data = data + noise\n",
    "noisy_data2 = data +noise2\n",
    "noisy_data3 = data + noise3\n",
    "#display(noisy_data.head())\n",
    "#display(noisy_data2.head())\n",
    "\n",
    "# Concatenate data with 3 lots of synthetic data\n",
    "combined_data = pd.concat([data, noisy_data, noisy_data2, noisy_data3], axis=0)\n",
    "\n",
    "# Resuffle the data afetr concatenation\n",
    "combined_data = combined_data.iloc[np.random.permutation(len(combined_data))]\n",
    "\n",
    "# Reset index\n",
    "combined_data = combined_data.reset_index(drop=True)\n",
    "display(combined_data.head(50))\n",
    "print(np.shape(combined_data)) # Should be 4x longer than data\n"
   ]
  },
  {
   "cell_type": "markdown",
   "metadata": {},
   "source": [
    "## Normalisation \n",
    "This snippet pre-processes the data by scaling the features. This has the effect of reducing bias in the input features by making them all of the same oder of magnitude which improves the model."
   ]
  },
  {
   "cell_type": "code",
   "execution_count": 19,
   "metadata": {
    "ExecuteTime": {
     "end_time": "2020-09-29T13:17:28.017390Z",
     "start_time": "2020-09-29T13:17:27.961063Z"
    },
    "scrolled": false
   },
   "outputs": [
    {
     "data": {
      "text/html": [
       "<div>\n",
       "<style scoped>\n",
       "    .dataframe tbody tr th:only-of-type {\n",
       "        vertical-align: middle;\n",
       "    }\n",
       "\n",
       "    .dataframe tbody tr th {\n",
       "        vertical-align: top;\n",
       "    }\n",
       "\n",
       "    .dataframe thead th {\n",
       "        text-align: right;\n",
       "    }\n",
       "</style>\n",
       "<table border=\"1\" class=\"dataframe\">\n",
       "  <thead>\n",
       "    <tr style=\"text-align: right;\">\n",
       "      <th></th>\n",
       "      <th>joint_0</th>\n",
       "      <th>joint_2</th>\n",
       "      <th>joint_4</th>\n",
       "      <th>joint_5</th>\n",
       "    </tr>\n",
       "  </thead>\n",
       "  <tbody>\n",
       "    <tr>\n",
       "      <th>0</th>\n",
       "      <td>-1.273</td>\n",
       "      <td>0.958</td>\n",
       "      <td>0.251</td>\n",
       "      <td>0.705</td>\n",
       "    </tr>\n",
       "    <tr>\n",
       "      <th>1</th>\n",
       "      <td>-1.273</td>\n",
       "      <td>0.958</td>\n",
       "      <td>0.250</td>\n",
       "      <td>0.705</td>\n",
       "    </tr>\n",
       "    <tr>\n",
       "      <th>2</th>\n",
       "      <td>-1.273</td>\n",
       "      <td>0.958</td>\n",
       "      <td>0.248</td>\n",
       "      <td>0.705</td>\n",
       "    </tr>\n",
       "    <tr>\n",
       "      <th>3</th>\n",
       "      <td>-1.273</td>\n",
       "      <td>0.958</td>\n",
       "      <td>0.248</td>\n",
       "      <td>0.705</td>\n",
       "    </tr>\n",
       "    <tr>\n",
       "      <th>4</th>\n",
       "      <td>-1.273</td>\n",
       "      <td>0.958</td>\n",
       "      <td>0.250</td>\n",
       "      <td>0.705</td>\n",
       "    </tr>\n",
       "  </tbody>\n",
       "</table>\n",
       "</div>"
      ],
      "text/plain": [
       "   joint_0  joint_2  joint_4  joint_5\n",
       "0   -1.273    0.958    0.251    0.705\n",
       "1   -1.273    0.958    0.250    0.705\n",
       "2   -1.273    0.958    0.248    0.705\n",
       "3   -1.273    0.958    0.248    0.705\n",
       "4   -1.273    0.958    0.250    0.705"
      ]
     },
     "metadata": {},
     "output_type": "display_data"
    }
   ],
   "source": [
    "from sklearn.preprocessing import StandardScaler\n",
    "data = ur_joint_data.drop('Force Vec', axis=1)\n",
    "scaler = StandardScaler()\n",
    "scaler.fit(data)\n",
    "data2 = scaler.transform(data)\n",
    "data2 = pd.DataFrame(data2)\n",
    "data2.columns= data.columns\n",
    "\n",
    "#print(scaler.transform([[2, 2]]))\n",
    "data2 = pd.DataFrame(data2)\n",
    "display(data2.head())"
   ]
  },
  {
   "cell_type": "markdown",
   "metadata": {},
   "source": [
    "## Concat Normalised Feature Data with Force Target"
   ]
  },
  {
   "cell_type": "code",
   "execution_count": 20,
   "metadata": {
    "ExecuteTime": {
     "end_time": "2020-09-29T13:17:38.210367Z",
     "start_time": "2020-09-29T13:17:38.194756Z"
    },
    "scrolled": false
   },
   "outputs": [
    {
     "data": {
      "text/html": [
       "<div>\n",
       "<style scoped>\n",
       "    .dataframe tbody tr th:only-of-type {\n",
       "        vertical-align: middle;\n",
       "    }\n",
       "\n",
       "    .dataframe tbody tr th {\n",
       "        vertical-align: top;\n",
       "    }\n",
       "\n",
       "    .dataframe thead th {\n",
       "        text-align: right;\n",
       "    }\n",
       "</style>\n",
       "<table border=\"1\" class=\"dataframe\">\n",
       "  <thead>\n",
       "    <tr style=\"text-align: right;\">\n",
       "      <th></th>\n",
       "      <th>joint_0</th>\n",
       "      <th>joint_2</th>\n",
       "      <th>joint_4</th>\n",
       "      <th>joint_5</th>\n",
       "      <th>Force Vec</th>\n",
       "    </tr>\n",
       "  </thead>\n",
       "  <tbody>\n",
       "    <tr>\n",
       "      <th>0</th>\n",
       "      <td>-1.273</td>\n",
       "      <td>0.958</td>\n",
       "      <td>0.251</td>\n",
       "      <td>0.705</td>\n",
       "      <td>0.030</td>\n",
       "    </tr>\n",
       "    <tr>\n",
       "      <th>1</th>\n",
       "      <td>-1.273</td>\n",
       "      <td>0.958</td>\n",
       "      <td>0.250</td>\n",
       "      <td>0.705</td>\n",
       "      <td>0.185</td>\n",
       "    </tr>\n",
       "    <tr>\n",
       "      <th>2</th>\n",
       "      <td>-1.273</td>\n",
       "      <td>0.958</td>\n",
       "      <td>0.248</td>\n",
       "      <td>0.705</td>\n",
       "      <td>0.091</td>\n",
       "    </tr>\n",
       "    <tr>\n",
       "      <th>3</th>\n",
       "      <td>-1.273</td>\n",
       "      <td>0.958</td>\n",
       "      <td>0.248</td>\n",
       "      <td>0.705</td>\n",
       "      <td>0.101</td>\n",
       "    </tr>\n",
       "    <tr>\n",
       "      <th>4</th>\n",
       "      <td>-1.273</td>\n",
       "      <td>0.958</td>\n",
       "      <td>0.250</td>\n",
       "      <td>0.705</td>\n",
       "      <td>0.055</td>\n",
       "    </tr>\n",
       "  </tbody>\n",
       "</table>\n",
       "</div>"
      ],
      "text/plain": [
       "   joint_0  joint_2  joint_4  joint_5  Force Vec\n",
       "0   -1.273    0.958    0.251    0.705      0.030\n",
       "1   -1.273    0.958    0.250    0.705      0.185\n",
       "2   -1.273    0.958    0.248    0.705      0.091\n",
       "3   -1.273    0.958    0.248    0.705      0.101\n",
       "4   -1.273    0.958    0.250    0.705      0.055"
      ]
     },
     "metadata": {},
     "output_type": "display_data"
    },
    {
     "name": "stdout",
     "output_type": "stream",
     "text": [
      "(72000, 5)\n"
     ]
    }
   ],
   "source": [
    "combined_normalised_data = pd.concat([data2, ur_joint_data['Force Vec']], axis=1)\n",
    "display(combined_normalised_data.head(5))\n",
    "print(np.shape(combined_normalised_data))"
   ]
  },
  {
   "cell_type": "markdown",
   "metadata": {},
   "source": [
    "## TPOT Generator\n",
    "TPOT is an AutoML framework based on the Sci-Kit learn API. It uses genetic algorithms to find an \"almost\" optimal learning model given the data. After a few experiments, TPOT has proved to be very useful."
   ]
  },
  {
   "cell_type": "code",
   "execution_count": 41,
   "metadata": {
    "ExecuteTime": {
     "end_time": "2020-09-29T15:14:45.161579Z",
     "start_time": "2020-09-29T13:34:12.310733Z"
    },
    "scrolled": false
   },
   "outputs": [
    {
     "data": {
      "text/html": [
       "<div>\n",
       "<style scoped>\n",
       "    .dataframe tbody tr th:only-of-type {\n",
       "        vertical-align: middle;\n",
       "    }\n",
       "\n",
       "    .dataframe tbody tr th {\n",
       "        vertical-align: top;\n",
       "    }\n",
       "\n",
       "    .dataframe thead th {\n",
       "        text-align: right;\n",
       "    }\n",
       "</style>\n",
       "<table border=\"1\" class=\"dataframe\">\n",
       "  <thead>\n",
       "    <tr style=\"text-align: right;\">\n",
       "      <th></th>\n",
       "      <th>joint_0</th>\n",
       "      <th>joint_2</th>\n",
       "      <th>joint_4</th>\n",
       "      <th>joint_5</th>\n",
       "      <th>Force Vec</th>\n",
       "    </tr>\n",
       "  </thead>\n",
       "  <tbody>\n",
       "    <tr>\n",
       "      <th>0</th>\n",
       "      <td>-1.273</td>\n",
       "      <td>0.958</td>\n",
       "      <td>0.251</td>\n",
       "      <td>0.705</td>\n",
       "      <td>0.030</td>\n",
       "    </tr>\n",
       "    <tr>\n",
       "      <th>1</th>\n",
       "      <td>-1.273</td>\n",
       "      <td>0.958</td>\n",
       "      <td>0.250</td>\n",
       "      <td>0.705</td>\n",
       "      <td>0.185</td>\n",
       "    </tr>\n",
       "    <tr>\n",
       "      <th>2</th>\n",
       "      <td>-1.273</td>\n",
       "      <td>0.958</td>\n",
       "      <td>0.248</td>\n",
       "      <td>0.705</td>\n",
       "      <td>0.091</td>\n",
       "    </tr>\n",
       "    <tr>\n",
       "      <th>3</th>\n",
       "      <td>-1.273</td>\n",
       "      <td>0.958</td>\n",
       "      <td>0.248</td>\n",
       "      <td>0.705</td>\n",
       "      <td>0.101</td>\n",
       "    </tr>\n",
       "    <tr>\n",
       "      <th>4</th>\n",
       "      <td>-1.273</td>\n",
       "      <td>0.958</td>\n",
       "      <td>0.250</td>\n",
       "      <td>0.705</td>\n",
       "      <td>0.055</td>\n",
       "    </tr>\n",
       "  </tbody>\n",
       "</table>\n",
       "</div>"
      ],
      "text/plain": [
       "   joint_0  joint_2  joint_4  joint_5  Force Vec\n",
       "0   -1.273    0.958    0.251    0.705      0.030\n",
       "1   -1.273    0.958    0.250    0.705      0.185\n",
       "2   -1.273    0.958    0.248    0.705      0.091\n",
       "3   -1.273    0.958    0.248    0.705      0.101\n",
       "4   -1.273    0.958    0.250    0.705      0.055"
      ]
     },
     "metadata": {},
     "output_type": "display_data"
    },
    {
     "name": "stdout",
     "output_type": "stream",
     "text": [
      "Warning: xgboost.XGBRegressor is not available and will not be used by TPOT.\n"
     ]
    },
    {
     "data": {
      "application/vnd.jupyter.widget-view+json": {
       "model_id": "",
       "version_major": 2,
       "version_minor": 0
      },
      "text/plain": [
       "HBox(children=(FloatProgress(value=0.0, description='Optimization Progress', max=550.0, style=ProgressStyle(de…"
      ]
     },
     "metadata": {},
     "output_type": "display_data"
    },
    {
     "name": "stdout",
     "output_type": "stream",
     "text": [
      "Generation 1 - Current best internal CV score: -11.91405316915053\n",
      "Generation 2 - Current best internal CV score: -11.91405316915053\n",
      "Generation 3 - Current best internal CV score: -11.441450962316823\n",
      "Generation 4 - Current best internal CV score: -11.441450962316823\n",
      "Generation 5 - Current best internal CV score: -11.441450962316823\n",
      "Generation 6 - Current best internal CV score: -10.562229646660501\n",
      "Generation 7 - Current best internal CV score: -10.562229646660501\n",
      "Generation 8 - Current best internal CV score: -10.216885416066361\n",
      "Generation 9 - Current best internal CV score: -10.216885416066361\n",
      "Generation 10 - Current best internal CV score: -9.848576166514391\n",
      "\n",
      "Best pipeline: RandomForestRegressor(PolynomialFeatures(input_matrix, degree=2, include_bias=False, interaction_only=False), bootstrap=False, max_features=0.4, min_samples_leaf=2, min_samples_split=9, n_estimators=100)\n",
      "-11.394608893879346\n"
     ]
    }
   ],
   "source": [
    "from tpot import TPOTRegressor\n",
    "from sklearn.datasets import load_boston\n",
    "from sklearn.model_selection import train_test_split\n",
    "\n",
    "X = combined_normalised_data.drop('Force Vec', axis=1)\n",
    "Y = combined_normalised_data['Force Vec']\n",
    "display(combined_normalised_data.head()) ## Sanity check -using the right data.\n",
    "\n",
    "X_train, X_test, y_train, y_test = train_test_split(X, Y,train_size=0.75, test_size=0.01, random_state=42)\n",
    "                                                    \n",
    "tpot = TPOTRegressor(generations=10, \n",
    "                     population_size=50, \n",
    "                     verbosity=2, # A verbosity of 2 give us a status bar while learning.\n",
    "                     random_state=42, # 42 seems to be the TPOT default value. \n",
    "                     n_jobs=-1, # setting thius to -1 allows jupyter to use all available resurces. \n",
    "                     warm_start=True)\n",
    "                     # use_dask=True) # Dask can be used for multithreading which Iv'e only just started looking at. \n",
    "\n",
    "tpot.fit(X_train, y_train)\n",
    "\n",
    "print(tpot.score(X_test, y_test))\n",
    "\n",
    "tpot.export('force_model.py')"
   ]
  },
  {
   "cell_type": "markdown",
   "metadata": {},
   "source": [
    "## Pickle TPOT, If Needed"
   ]
  },
  {
   "cell_type": "code",
   "execution_count": null,
   "metadata": {},
   "outputs": [],
   "source": [
    "import pickle\n",
    "with open('/home/ur10pc/Desktop/robot_data/pickle/tpot.pkl','wb') as f:\n",
    "    pickle.dump(tpot.fitted_pipeline_, f)\n"
   ]
  },
  {
   "cell_type": "markdown",
   "metadata": {},
   "source": [
    "## Restart TPOT From Pickle"
   ]
  },
  {
   "cell_type": "raw",
   "metadata": {
    "scrolled": false
   },
   "source": [
    "with open('/home/ur10pc/Desktop/robot_data/pickle/tpot.pkl','rb') as f:\n",
    "    tpot.fitted_pipeline_ = pickle.load(f)\n",
    "    \n",
    "# tpot = TPOTRegressor(generations=150, \n",
    "#                      population_size=100, \n",
    "#                      verbosity=2, \n",
    "#                      random_state=42, \n",
    "#                      n_jobs=-1,\n",
    "#                      warm_start=True)\n",
    "#                      #use_dask=True\n",
    "    \n",
    "tpot.fit(X_train, y_train)\n",
    "tpot.export('pull_force4.py')"
   ]
  },
  {
   "cell_type": "markdown",
   "metadata": {},
   "source": [
    "## RandomForestRegressor"
   ]
  },
  {
   "cell_type": "code",
   "execution_count": 46,
   "metadata": {
    "ExecuteTime": {
     "end_time": "2020-09-29T15:52:42.083529Z",
     "start_time": "2020-09-29T15:51:39.857536Z"
    },
    "scrolled": false
   },
   "outputs": [],
   "source": [
    "import numpy as np\n",
    "import pandas as pd\n",
    "from sklearn.ensemble import RandomForestRegressor\n",
    "from sklearn.model_selection import train_test_split\n",
    "from sklearn.pipeline import make_pipeline\n",
    "from sklearn.preprocessing import PolynomialFeatures\n",
    "from tpot.export_utils import set_param_recursive\n",
    "\n",
    "\n",
    "# NOTE: Make sure that the outcome column is labeled 'target' in the data file\n",
    "data = combined_normalised_data\n",
    "features = data.drop('Force Vec', axis=1)\n",
    "training_features, testing_features, training_target, testing_target = \\\n",
    "            train_test_split(features, data['Force Vec'],  test_size=0.01, random_state=42)\n",
    "\n",
    "# Average CV score on the training set was: -9.848576166514391\n",
    "exported_pipeline = make_pipeline(\n",
    "    PolynomialFeatures(degree=2, include_bias=False, interaction_only=False),\n",
    "    RandomForestRegressor(bootstrap=False, \n",
    "                          max_features=0.4, \n",
    "                          min_samples_leaf=2, \n",
    "                          min_samples_split=9, \n",
    "                          n_estimators=100)\n",
    ")\n",
    "# Fix random state for all the steps in exported pipeline\n",
    "set_param_recursive(exported_pipeline.steps, 'random_state', 42)\n",
    "\n",
    "exported_pipeline.fit(training_features, training_target)\n",
    "results = exported_pipeline.predict(testing_features)\n",
    "\n"
   ]
  },
  {
   "cell_type": "markdown",
   "metadata": {},
   "source": [
    "## Pickle Model"
   ]
  },
  {
   "cell_type": "code",
   "execution_count": 49,
   "metadata": {
    "ExecuteTime": {
     "end_time": "2020-09-29T16:02:41.532704Z",
     "start_time": "2020-09-29T16:02:40.895505Z"
    }
   },
   "outputs": [],
   "source": [
    "import pickle\n",
    "with open('/home/ur10pc/Desktop/robot_data/pickle/dynamic_model.pkl','wb') as f:\n",
    "    pickle.dump(exported_pipeline, f)\n"
   ]
  },
  {
   "cell_type": "markdown",
   "metadata": {},
   "source": [
    "## Load Pickle Model\n",
    "\n"
   ]
  },
  {
   "cell_type": "raw",
   "metadata": {},
   "source": [
    "with open('/home/ur10pc/Desktop/robot_data/pickle/dynamic_model.pkl','rb') as f:\n",
    "    pipeline = pickle.load(f)\n",
    "    \n",
    "results2 = pipeline.predict(testing_features)"
   ]
  },
  {
   "cell_type": "markdown",
   "metadata": {},
   "source": [
    "## Results From RandomForestRegressor"
   ]
  },
  {
   "cell_type": "code",
   "execution_count": 47,
   "metadata": {
    "ExecuteTime": {
     "end_time": "2020-09-29T15:52:59.987547Z",
     "start_time": "2020-09-29T15:52:59.951286Z"
    },
    "scrolled": true
   },
   "outputs": [
    {
     "name": "stdout",
     "output_type": "stream",
     "text": [
      " Average error is:  1.1843788442566947 N\n"
     ]
    },
    {
     "data": {
      "text/html": [
       "<div>\n",
       "<style scoped>\n",
       "    .dataframe tbody tr th:only-of-type {\n",
       "        vertical-align: middle;\n",
       "    }\n",
       "\n",
       "    .dataframe tbody tr th {\n",
       "        vertical-align: top;\n",
       "    }\n",
       "\n",
       "    .dataframe thead th {\n",
       "        text-align: right;\n",
       "    }\n",
       "</style>\n",
       "<table border=\"1\" class=\"dataframe\">\n",
       "  <thead>\n",
       "    <tr style=\"text-align: right;\">\n",
       "      <th></th>\n",
       "      <th>joint_0</th>\n",
       "      <th>joint_2</th>\n",
       "      <th>joint_4</th>\n",
       "      <th>joint_5</th>\n",
       "      <th>Force Vec</th>\n",
       "      <th>Prediction</th>\n",
       "      <th>error</th>\n",
       "    </tr>\n",
       "  </thead>\n",
       "  <tbody>\n",
       "    <tr>\n",
       "      <th>0</th>\n",
       "      <td>-0.767</td>\n",
       "      <td>1.258</td>\n",
       "      <td>0.909</td>\n",
       "      <td>0.380</td>\n",
       "      <td>34.546</td>\n",
       "      <td>34.467</td>\n",
       "      <td>0.079</td>\n",
       "    </tr>\n",
       "    <tr>\n",
       "      <th>1</th>\n",
       "      <td>-0.615</td>\n",
       "      <td>0.758</td>\n",
       "      <td>-0.088</td>\n",
       "      <td>0.384</td>\n",
       "      <td>27.151</td>\n",
       "      <td>26.451</td>\n",
       "      <td>0.700</td>\n",
       "    </tr>\n",
       "    <tr>\n",
       "      <th>2</th>\n",
       "      <td>1.311</td>\n",
       "      <td>-1.165</td>\n",
       "      <td>-0.004</td>\n",
       "      <td>0.704</td>\n",
       "      <td>2.031</td>\n",
       "      <td>2.424</td>\n",
       "      <td>-0.393</td>\n",
       "    </tr>\n",
       "    <tr>\n",
       "      <th>3</th>\n",
       "      <td>1.398</td>\n",
       "      <td>-0.269</td>\n",
       "      <td>0.392</td>\n",
       "      <td>-0.904</td>\n",
       "      <td>1.121</td>\n",
       "      <td>1.167</td>\n",
       "      <td>-0.046</td>\n",
       "    </tr>\n",
       "    <tr>\n",
       "      <th>4</th>\n",
       "      <td>1.097</td>\n",
       "      <td>0.215</td>\n",
       "      <td>0.534</td>\n",
       "      <td>0.637</td>\n",
       "      <td>8.056</td>\n",
       "      <td>7.628</td>\n",
       "      <td>0.428</td>\n",
       "    </tr>\n",
       "  </tbody>\n",
       "</table>\n",
       "</div>"
      ],
      "text/plain": [
       "   joint_0  joint_2  joint_4  joint_5  Force Vec  Prediction  error\n",
       "0   -0.767    1.258    0.909    0.380     34.546      34.467  0.079\n",
       "1   -0.615    0.758   -0.088    0.384     27.151      26.451  0.700\n",
       "2    1.311   -1.165   -0.004    0.704      2.031       2.424 -0.393\n",
       "3    1.398   -0.269    0.392   -0.904      1.121       1.167 -0.046\n",
       "4    1.097    0.215    0.534    0.637      8.056       7.628  0.428"
      ]
     },
     "metadata": {},
     "output_type": "display_data"
    },
    {
     "name": "stdout",
     "output_type": "stream",
     "text": [
      "(720, 7)\n"
     ]
    }
   ],
   "source": [
    "results = pd.DataFrame(results)\n",
    "results.columns = ['Prediction']\n",
    "testing_features = pd.DataFrame(testing_features)\n",
    "testing_target = pd.DataFrame(testing_target)\n",
    "results_data = pd.concat([ testing_features.reset_index(drop=True), \n",
    "                          testing_target.reset_index(drop=True), \n",
    "                          results.reset_index(drop=True)], axis=1)\n",
    "\n",
    "results_data['error'] = results_data['Force Vec']-results_data['Prediction']\n",
    "abs_error = np.abs(results_data['error'])\n",
    "error_sum = abs_error.sum()\n",
    "average_error = error_sum/len(results_data)\n",
    "\n",
    "print(' Average error is: ', average_error, 'N')\n",
    "\n",
    "display(results_data.head()) # Last average error value was 0.5766\n",
    "print(np.shape(results_data))"
   ]
  },
  {
   "cell_type": "markdown",
   "metadata": {},
   "source": [
    "## Plot Results Matplotlib"
   ]
  },
  {
   "cell_type": "code",
   "execution_count": 48,
   "metadata": {
    "ExecuteTime": {
     "end_time": "2020-09-29T15:53:10.324924Z",
     "start_time": "2020-09-29T15:53:09.110589Z"
    },
    "scrolled": true
   },
   "outputs": [
    {
     "data": {
      "image/png": "[encoded data removed]",
      "text/plain": [
       "<Figure size 1120x640 with 1 Axes>"
      ]
     },
     "metadata": {},
     "output_type": "display_data"
    }
   ],
   "source": [
    "\n",
    "import matplotlib.pyplot as plt\n",
    "from matplotlib.pyplot import figure\n",
    "%matplotlib inline\n",
    "figure(num=None, figsize=(14, 8), dpi=80, facecolor='w', edgecolor='k')\n",
    "\n",
    "\n",
    "x = results_data.index\n",
    "y = results_data['Prediction'] #Black\n",
    "z = results_data['Force Vec'] #Green \n",
    "\n",
    "plt.scatter(x, y, color='k',label='Predicted Force');\n",
    "plt.scatter(x, z, color='g', label='Empirical Force');\n",
    "plt.title('Predicted v Empirical Force Results', fontsize=20);\n",
    "plt.xlabel('Data Point', labelpad=14, fontsize=20);\n",
    "plt.ylabel('Force (N)', labelpad=14, fontsize=20);\n",
    "plt.tight_layout();\n",
    "plt.grid(True);\n",
    "plt.legend();\n",
    "\n",
    "## Add connecting error line.\n",
    "L = len(y)\n",
    "t = np.c_[range(L), range(L)].T\n",
    "plt.plot(t, np.c_[y, z].T, '-k', linewidth=0.5)\n",
    "\n",
    "plt.show()"
   ]
  },
  {
   "cell_type": "code",
   "execution_count": null,
   "metadata": {},
   "outputs": [],
   "source": []
  }
 ],
 "metadata": {
  "kernelspec": {
   "display_name": "Python 3",
   "language": "python",
   "name": "python3"
  },
  "language_info": {
   "codemirror_mode": {
    "name": "ipython",
    "version": 3
   },
   "file_extension": ".py",
   "mimetype": "text/x-python",
   "name": "python",
   "nbconvert_exporter": "python",
   "pygments_lexer": "ipython3",
   "version": "3.7.6"
  }
 },
 "nbformat": 4,
 "nbformat_minor": 4
}
